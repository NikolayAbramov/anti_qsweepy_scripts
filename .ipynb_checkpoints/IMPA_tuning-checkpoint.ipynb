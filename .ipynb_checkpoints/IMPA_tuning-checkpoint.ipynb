{
 "cells": [
  {
   "cell_type": "code",
   "execution_count": 32,
   "metadata": {},
   "outputs": [],
   "source": [
    "from anti_qsweepy.drivers import *\n",
    "from anti_qsweepy.routines import data_mgmt\n",
    "from anti_qsweepy.routines.helper_functions import *\n",
    "import anti_qsweepy.routines.differential_evolution as di\n",
    "from numpy import *\n",
    "import scipy.optimize as so\n",
    "import time\n",
    "import imp"
   ]
  },
  {
   "cell_type": "code",
   "execution_count": 33,
   "metadata": {},
   "outputs": [
    {
     "data": {
      "text/plain": [
       "<module 'anti_qsweepy.routines.differential_evolution' from 'C:\\\\simple_lab_scripts\\\\anti_qsweepy\\\\routines\\\\differential_evolution.py'>"
      ]
     },
     "execution_count": 33,
     "metadata": {},
     "output_type": "execute_result"
    }
   ],
   "source": [
    "imp.reload(di)"
   ]
  },
  {
   "cell_type": "code",
   "execution_count": 34,
   "metadata": {},
   "outputs": [],
   "source": [
    "na = Agilent_PNA.NetworkAnalyzer('PNA-X')\n",
    "#na = RS_ZNB20.NetworkAnalyzer('ZNB20')\n",
    "#bias_source = Keithley_2400.CurrentSource('2400')\n",
    "bias_source = Keithley_6221.CurrentSource('GPIB0::10::INSTR')\n",
    "#bias_source = Keithley_2651.MagnetSupply(\"NNDAC\", rate = 1.)\n",
    "pump = Agilent_PSG.Generator('Generator_E8257D')"
   ]
  },
  {
   "cell_type": "code",
   "execution_count": 35,
   "metadata": {},
   "outputs": [],
   "source": [
    "target_gain  = 22\n",
    "#bias_range = (2.5e-3, 4.55e-3)\n",
    "bias_range = (3e-3, 4.5e-3)\n",
    "bias_source_range = 10e-3\n",
    "bias_source_limit = 10\n",
    "Fcent = 6.8e9\n",
    "f_cent_range = (6e9,7.2e9)\n",
    "Fspan = 0.8e9\n",
    "Npoints = 350\n",
    "power = -30\n",
    "bw = 10e3\n",
    "pump_range = (-7,10)\n",
    "#pump_range = (-2,18)"
   ]
  },
  {
   "cell_type": "code",
   "execution_count": 36,
   "metadata": {},
   "outputs": [
    {
     "data": {
      "text/plain": [
       "1"
      ]
     },
     "execution_count": 36,
     "metadata": {},
     "output_type": "execute_result"
    }
   ],
   "source": [
    "na.num_of_points(Npoints)\n",
    "na.freq_center_span((Fcent,Fspan))\n",
    "na.bandwidth(bw)\n",
    "na.power(power)\n",
    "\n",
    "na.sweep_type(\"LIN\")\n",
    "\n",
    "bias_source.range(bias_source_range)\n",
    "bias_source.limit(bias_source_limit)\n",
    "\n",
    "pump.freq(Fcent*2.)\n",
    "\n",
    "Fna = na.freq_points()\n",
    "\n",
    "na.output('on')\n",
    "bias_source.setpoint(0.)\n",
    "bias_source.output('on')"
   ]
  },
  {
   "cell_type": "code",
   "execution_count": 37,
   "metadata": {},
   "outputs": [
    {
     "name": "stdout",
     "output_type": "stream",
     "text": [
      "Reference level: -42.149625db\n"
     ]
    }
   ],
   "source": [
    "#Reference\n",
    "pump.output('off')\n",
    "na.soft_trig_arm()\n",
    "db_ref = mean(20*log10(abs(na.read_data())))\n",
    "print(\"Reference level: {:f}db\".format(db_ref))\n",
    "pump.output('on')\n",
    "na.soft_trig_abort()"
   ]
  },
  {
   "cell_type": "code",
   "execution_count": 38,
   "metadata": {},
   "outputs": [],
   "source": [
    "class FuncMin():\n",
    "    \"\"\"\n",
    "    def func_min(self,x):\n",
    "        #x[0] - bias\n",
    "        #x[1] - pump\n",
    "        pump.power(x[1])\n",
    "        bias_source.setpoint(x[0])\n",
    "        #time.sleep(0.01)\n",
    "        gain = 20*log10(abs(na.read_data()))-db_ref\n",
    "        diff = gain-target_gain\n",
    "        return mean(diff**2) + 0.5*diff[int(len(diff)/2)]**2\n",
    "    \"\"\"\n",
    "    def func_min(self,x):\n",
    "        #x[0] - bias\n",
    "        #x[1] - pump\n",
    "        pump.power(x[1])\n",
    "        bias_source.setpoint(x[0])\n",
    "        #time.sleep(0.01)\n",
    "        gain = 20*log10(abs(na.read_data()))-db_ref\n",
    "        diff = gain-target_gain\n",
    "        \n",
    "        f_cent,span = na.freq_center_span()\n",
    "        na.sweep_type('cw')\n",
    "        na.freq_cw( f_cent + 2e6 )\n",
    "        \n",
    "        data_on = na.read_data()\n",
    "        sigma = std(abs(data))\n",
    "        pump.output('off')\n",
    "        \n",
    "        data_off = na.read_data()\n",
    "        data_off = mean(data)\n",
    "        pump.output('on')\n",
    "        na.sweep_type('lin')\n",
    "        return 0*mean(diff**2) + 0*0.5*diff[int(len(diff)/2)]**2 + (10*sigma)**2\n",
    "\n",
    "    def func_min_vect(self,x):\n",
    "        if len(shape(x)) == 2:\n",
    "            res = zeros(shape(x)[0])\n",
    "            for i,val in enumerate(x):\n",
    "                res[i] = self.func_min(val)\n",
    "            return res\n",
    "        elif len(shape(x)) == 1:\n",
    "            return self.func_min(x)\n",
    "        else:\n",
    "            raise Ecxeption('Invalid argument shape')"
   ]
  },
  {
   "cell_type": "markdown",
   "metadata": {},
   "source": [
    "## Noisy"
   ]
  },
  {
   "cell_type": "code",
   "execution_count": null,
   "metadata": {},
   "outputs": [],
   "source": [
    "class FuncMin():\n",
    "    \n",
    "    def ref(self):\n",
    "        pump.output('off')\n",
    "        na.soft_trig_arm()\n",
    "        self.ref = na.read_data()\n",
    "        print(\"Reference level: {:f}db\".format(20*log10(abs(db_ref))))\n",
    "        pump.output('on')\n",
    "        na.soft_trig_abort()\n",
    "    \n",
    "    def func_min(self,x):\n",
    "        #x[0] - bias\n",
    "        #x[1] - pump\n",
    "        pump.power(x[1])\n",
    "        bias_source.setpoint(x[0])\n",
    "        #time.sleep(0.01)\n",
    "        gain = 20*log10(abs(na.read_data()))-db_ref\n",
    "        diff = gain-target_gain\n",
    "        \n",
    "        f_cent,span = na.freq_center_span()\n",
    "        na.sweep_type('cw')\n",
    "        na.freq_cw( f_cent + 2e6 )\n",
    "        S21 = 20*log10(abs(na.read_data()))\n",
    "        sigma = std(S21)\n",
    "        na.sweep_type('lin')\n",
    "        return 0*mean(diff**2) + 0*0.5*diff[int(len(diff)/2)]**2 + (10*sigma)**2\n",
    "\n",
    "    def func_min_vect(self,x):\n",
    "        if len(shape(x)) == 2:\n",
    "            res = zeros(shape(x)[0])\n",
    "            for i,val in enumerate(x):\n",
    "                res[i] = self.func_min(val)\n",
    "            return res\n",
    "        elif len(shape(x)) == 1:\n",
    "            return self.func_min(x)\n",
    "        else:\n",
    "            raise Ecxeption('Invalid argument shape')"
   ]
  },
  {
   "cell_type": "code",
   "execution_count": 218,
   "metadata": {},
   "outputs": [
    {
     "data": {
      "text/plain": [
       "6002000000.0"
      ]
     },
     "execution_count": 218,
     "metadata": {},
     "output_type": "execute_result"
    }
   ],
   "source": [
    "na.freq_cw( 6e9 + 2e6 )"
   ]
  },
  {
   "cell_type": "code",
   "execution_count": 14,
   "metadata": {},
   "outputs": [],
   "source": [
    "na.soft_trig_arm()\n",
    "FuncMin().func_min_vect([[3.866e-3,-1.22], [3.866e-3,-1.22]])\n",
    "na.soft_trig_abort()"
   ]
  },
  {
   "cell_type": "code",
   "execution_count": 195,
   "metadata": {},
   "outputs": [],
   "source": [
    "class FuncMin():\n",
    "    def func_min(self,x):\n",
    "        #x[0] - bias\n",
    "        #x[1] - pump\n",
    "        #x[2] - frequency\n",
    "        pump.power(x[1])\n",
    "        pump.freq(x[2]*2)\n",
    "        bias_source.setpoint(x[0])\n",
    "        na.freq_center_span((x[2],Fspan))\n",
    "        #time.sleep(0.01)\n",
    "        gain = 20*log10(abs(na.read_data()))-db_ref\n",
    "        diff = gain-target_gain\n",
    "        return mean(diff**2) + 0.5*diff[int(len(diff)/2)]**2\n",
    "\n",
    "    def func_min_vect(self,x):\n",
    "        if len(shape(x)) == 2:\n",
    "            res = zeros(shape(x)[0])\n",
    "            for i,val in enumerate(x):\n",
    "                res[i] = self.func_min(val)\n",
    "            return res\n",
    "        elif len(shape(x)) == 1:\n",
    "            return self.func_min(x)\n",
    "        else:\n",
    "            raise Ecxeption('Invalid argument shape')"
   ]
  },
  {
   "cell_type": "code",
   "execution_count": 43,
   "metadata": {},
   "outputs": [],
   "source": [
    "#x[0] - bias\n",
    "#x[1] - pump\n",
    "#x[2] - freq\n",
    "def func_min1(x):\n",
    "    pump.power(x[1])\n",
    "    bias_source.setpoint(x[0])\n",
    "    na.freq_center_span((x[2], Fspan))\n",
    "    pump.freq(2*x[2])\n",
    "    time.sleep(0.01)\n",
    "    gain = 20*log10(abs(na.read_data()))-db_ref\n",
    "    diff = gain-target_gain\n",
    "    return mean(diff**2) + 0.0*diff[int(len(diff)/2)]**2 "
   ]
  },
  {
   "cell_type": "code",
   "execution_count": null,
   "metadata": {
    "scrolled": true
   },
   "outputs": [],
   "source": [
    "x0 = array([ mean(bias_range)*1e3 , mean(pump_range) ])\n",
    "so.basinhopping(func_min, x0, niter=10)"
   ]
  },
  {
   "cell_type": "code",
   "execution_count": null,
   "metadata": {},
   "outputs": [],
   "source": [
    "so.shgo(func_min, [bias_range, pump_range])"
   ]
  },
  {
   "cell_type": "code",
   "execution_count": 94,
   "metadata": {},
   "outputs": [],
   "source": [
    "n_init = 20\n",
    "init_pop = zeros((n_init**2,2))\n",
    "i=0\n",
    "for val0 in linspace(bias_range[0], bias_range[1],n_init):\n",
    "    for val1 in linspace(pump_range[0], pump_range[1],n_init):\n",
    "        init_pop[i] = [val0,val1]\n",
    "        i+=1"
   ]
  },
  {
   "cell_type": "code",
   "execution_count": 24,
   "metadata": {},
   "outputs": [
    {
     "data": {
      "text/plain": [
       "485.64856791496277"
      ]
     },
     "execution_count": 24,
     "metadata": {},
     "output_type": "execute_result"
    }
   ],
   "source": [
    "t1=time.time()\n",
    "na.soft_trig_arm()\n",
    "res = so.differential_evolution(func_min,  [bias_range, pump_range], tol = 0.06, popsize = 100, maxiter = 30)\n",
    "na.soft_trig_abort()\n",
    "time.time()-t1"
   ]
  },
  {
   "cell_type": "code",
   "execution_count": 44,
   "metadata": {},
   "outputs": [
    {
     "data": {
      "text/plain": [
       "692.4740211963654"
      ]
     },
     "execution_count": 44,
     "metadata": {},
     "output_type": "execute_result"
    }
   ],
   "source": [
    "t1=time.time()\n",
    "na.soft_trig_arm()\n",
    "res = so.differential_evolution(func_min1,  [bias_range, pump_range, (Fcent-0.01e9, Fcent+0.01e9)], tol = 0.06, \n",
    "                                popsize = 50, maxiter = 30)\n",
    "na.soft_trig_abort()\n",
    "time.time()-t1"
   ]
  },
  {
   "cell_type": "code",
   "execution_count": 153,
   "metadata": {},
   "outputs": [],
   "source": [
    "res = so.differential_evolution(func_min1,  [bias_range, pump_range], tol = 0.06)"
   ]
  },
  {
   "cell_type": "code",
   "execution_count": 31,
   "metadata": {},
   "outputs": [
    {
     "data": {
      "text/plain": [
       "     fun: 8.283114394223693\n",
       " message: 'Optimization terminated successfully.'\n",
       "    nfev: 678\n",
       "     nit: 6\n",
       " success: True\n",
       "       x: array([ 3.67744812e-03, -6.07546917e+00])"
      ]
     },
     "execution_count": 31,
     "metadata": {},
     "output_type": "execute_result"
    }
   ],
   "source": [
    "res"
   ]
  },
  {
   "cell_type": "code",
   "execution_count": 177,
   "metadata": {},
   "outputs": [
    {
     "data": {
      "text/plain": [
       "array([ 0.00330865, -1.36071587])"
      ]
     },
     "execution_count": 177,
     "metadata": {},
     "output_type": "execute_result"
    }
   ],
   "source": [
    "res['x']"
   ]
  },
  {
   "cell_type": "markdown",
   "metadata": {},
   "source": [
    "## Modified differential evolution"
   ]
  },
  {
   "cell_type": "code",
   "execution_count": 176,
   "metadata": {},
   "outputs": [
    {
     "name": "stdout",
     "output_type": "stream",
     "text": [
      "63.33210492134094\n"
     ]
    }
   ],
   "source": [
    "t1=time.time()\n",
    "na.soft_trig_arm()\n",
    "solver = di.DifferentialEvolutionSolver(FuncMin().func_min_vect,  \n",
    "                                [bias_range, pump_range], tol = 0.06, \n",
    "                                popsize = 50, minpopsize = 5, maxiter = 30 )\n",
    "res = solver.solve()\n",
    "na.soft_trig_abort()\n",
    "print(time.time()-t1) "
   ]
  },
  {
   "cell_type": "code",
   "execution_count": 39,
   "metadata": {},
   "outputs": [
    {
     "name": "stdout",
     "output_type": "stream",
     "text": [
      "142.23235750198364\n"
     ]
    }
   ],
   "source": [
    "t1=time.time()\n",
    "na.soft_trig_arm()\n",
    "solver = di.DifferentialEvolutionSolver(FuncMin().func_min_vect,  \n",
    "                                [bias_range, pump_range], tol = 0.06, \n",
    "                                popsize = 50, minpopsize = 5, maxiter = 30 )\n",
    "res = solver.solve()\n",
    "na.soft_trig_abort()\n",
    "print(time.time()-t1) "
   ]
  },
  {
   "cell_type": "code",
   "execution_count": 196,
   "metadata": {},
   "outputs": [
    {
     "name": "stdout",
     "output_type": "stream",
     "text": [
      "305.62023425102234\n"
     ]
    }
   ],
   "source": [
    "t1=time.time()\n",
    "na.soft_trig_arm()\n",
    "solver = di.DifferentialEvolutionSolver(FuncMin().func_min_vect,  \n",
    "                                [bias_range, pump_range, f_cent_range], tol = 0.06, \n",
    "                                popsize = 50, minpopsize = 5, maxiter = 50 )\n",
    "res = solver.solve()\n",
    "na.soft_trig_abort()\n",
    "print(time.time()-t1) "
   ]
  },
  {
   "cell_type": "code",
   "execution_count": 168,
   "metadata": {},
   "outputs": [
    {
     "data": {
      "text/plain": [
       "'1\\n'"
      ]
     },
     "execution_count": 168,
     "metadata": {},
     "output_type": "execute_result"
    }
   ],
   "source": [
    "pump.output()"
   ]
  },
  {
   "cell_type": "code",
   "execution_count": 17,
   "metadata": {},
   "outputs": [
    {
     "data": {
      "text/plain": [
       "0.00353"
      ]
     },
     "execution_count": 17,
     "metadata": {},
     "output_type": "execute_result"
    }
   ],
   "source": [
    "bias_source.setpoint()"
   ]
  },
  {
   "cell_type": "code",
   "execution_count": 169,
   "metadata": {},
   "outputs": [
    {
     "data": {
      "text/plain": [
       "1"
      ]
     },
     "execution_count": 169,
     "metadata": {},
     "output_type": "execute_result"
    }
   ],
   "source": [
    "bias_source.output()"
   ]
  },
  {
   "cell_type": "code",
   "execution_count": 13,
   "metadata": {},
   "outputs": [],
   "source": [
    "na.soft_trig_abort()"
   ]
  },
  {
   "cell_type": "code",
   "execution_count": 37,
   "metadata": {},
   "outputs": [
    {
     "data": {
      "text/plain": [
       "-2.98789442"
      ]
     },
     "execution_count": 37,
     "metadata": {},
     "output_type": "execute_result"
    }
   ],
   "source": [
    "\n",
    "bias_source.setpoint(3.9304341e-3)\n",
    "pump.power(-2.98789442)"
   ]
  },
  {
   "cell_type": "code",
   "execution_count": 52,
   "metadata": {},
   "outputs": [
    {
     "data": {
      "text/plain": [
       "(3, 2)"
      ]
     },
     "execution_count": 52,
     "metadata": {},
     "output_type": "execute_result"
    }
   ],
   "source": [
    "shape(array([[1,2],[1,2],[1,2]]))"
   ]
  },
  {
   "cell_type": "code",
   "execution_count": 48,
   "metadata": {},
   "outputs": [
    {
     "data": {
      "text/plain": [
       "8"
      ]
     },
     "execution_count": 48,
     "metadata": {},
     "output_type": "execute_result"
    }
   ],
   "source": [
    "def test_func(a,b):\n",
    "    return a**b\n",
    "args = (2,3)\n",
    "test_func(*args)"
   ]
  },
  {
   "cell_type": "code",
   "execution_count": 50,
   "metadata": {},
   "outputs": [
    {
     "data": {
      "text/plain": [
       "<mtrand.RandomState at 0x20dd20dff98>"
      ]
     },
     "execution_count": 50,
     "metadata": {},
     "output_type": "execute_result"
    }
   ],
   "source": [
    "random.RandomState(1)"
   ]
  },
  {
   "cell_type": "code",
   "execution_count": 128,
   "metadata": {},
   "outputs": [],
   "source": [
    "x = array([[1,2,3],[1,2,3],[4,5,6],[8,9,7]])"
   ]
  },
  {
   "cell_type": "code",
   "execution_count": 133,
   "metadata": {},
   "outputs": [
    {
     "data": {
      "text/plain": [
       "array([[1, 2, 3],\n",
       "       [8, 9, 7]])"
      ]
     },
     "execution_count": 133,
     "metadata": {},
     "output_type": "execute_result"
    }
   ],
   "source": [
    "delete(x, [2,1],axis = 0)"
   ]
  },
  {
   "cell_type": "code",
   "execution_count": 122,
   "metadata": {},
   "outputs": [],
   "source": [
    "a = array([2,3,56,2,1])"
   ]
  },
  {
   "cell_type": "code",
   "execution_count": 123,
   "metadata": {},
   "outputs": [
    {
     "data": {
      "text/plain": [
       "array([4, 0, 3, 1, 2], dtype=int64)"
      ]
     },
     "execution_count": 123,
     "metadata": {},
     "output_type": "execute_result"
    }
   ],
   "source": [
    "argsort(a)\n"
   ]
  },
  {
   "cell_type": "code",
   "execution_count": 125,
   "metadata": {},
   "outputs": [
    {
     "data": {
      "text/plain": [
       "array([2, 3, 1])"
      ]
     },
     "execution_count": 125,
     "metadata": {},
     "output_type": "execute_result"
    }
   ],
   "source": [
    "delete(a, [2,3])"
   ]
  },
  {
   "cell_type": "code",
   "execution_count": 198,
   "metadata": {},
   "outputs": [],
   "source": [
    "import os"
   ]
  },
  {
   "cell_type": "code",
   "execution_count": 201,
   "metadata": {},
   "outputs": [
    {
     "data": {
      "text/plain": [
       "('abc', 'def')"
      ]
     },
     "execution_count": 201,
     "metadata": {},
     "output_type": "execute_result"
    }
   ],
   "source": [
    "os.path.split('abc\\\\def')"
   ]
  },
  {
   "cell_type": "code",
   "execution_count": null,
   "metadata": {},
   "outputs": [],
   "source": []
  }
 ],
 "metadata": {
  "kernelspec": {
   "display_name": "Python 3",
   "language": "python",
   "name": "python3"
  },
  "language_info": {
   "codemirror_mode": {
    "name": "ipython",
    "version": 3
   },
   "file_extension": ".py",
   "mimetype": "text/x-python",
   "name": "python",
   "nbconvert_exporter": "python",
   "pygments_lexer": "ipython3",
   "version": "3.7.4"
  }
 },
 "nbformat": 4,
 "nbformat_minor": 2
}
