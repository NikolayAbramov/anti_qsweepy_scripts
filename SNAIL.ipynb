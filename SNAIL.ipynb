{
 "cells": [
  {
   "cell_type": "code",
   "execution_count": 1,
   "metadata": {
    "ExecuteTime": {
     "end_time": "2019-10-26T12:45:20.230591Z",
     "start_time": "2019-10-26T12:45:16.097456Z"
    }
   },
   "outputs": [],
   "source": [
    "from anti_qsweepy.drivers import *\n",
    "from anti_qsweepy.routines import jpa_tuning\n",
    "from matplotlib.pyplot import *\n",
    "from numpy import *\n",
    "from matplotlib import interactive\n",
    "import time\n",
    "import pickle\n",
    "import datetime\n",
    "interactive(True)\n",
    "import scipy.optimize as so\n",
    "import imp"
   ]
  },
  {
   "cell_type": "code",
   "execution_count": 2,
   "metadata": {
    "ExecuteTime": {
     "end_time": "2019-10-20T20:15:29.378602Z",
     "start_time": "2019-10-20T20:15:29.366609Z"
    }
   },
   "outputs": [
    {
     "data": {
      "text/plain": [
       "<module 'anti_qsweepy.routines.jpa_tuning' from 'C:\\\\simple_lab_scripts\\\\anti_qsweepy\\\\routines\\\\jpa_tuning.py'>"
      ]
     },
     "execution_count": 2,
     "metadata": {},
     "output_type": "execute_result"
    }
   ],
   "source": [
    "imp.reload(jpa_tuning)"
   ]
  },
  {
   "cell_type": "code",
   "execution_count": 3,
   "metadata": {
    "ExecuteTime": {
     "end_time": "2019-10-26T12:45:27.867341Z",
     "start_time": "2019-10-26T12:45:27.863848Z"
    }
   },
   "outputs": [],
   "source": [
    "timestamp = lambda:datetime.datetime.fromtimestamp(time.time()).strftime('%d-%m_%H_%M_%S')"
   ]
  },
  {
   "cell_type": "code",
   "execution_count": 29,
   "metadata": {
    "ExecuteTime": {
     "end_time": "2019-10-26T12:45:25.434823Z",
     "start_time": "2019-10-26T12:45:25.430830Z"
    }
   },
   "outputs": [],
   "source": [
    "savepath = \"E:\\\\Abramov\\\\2021-10-22\\\\tuning_tables\""
   ]
  },
  {
   "cell_type": "code",
   "execution_count": 5,
   "metadata": {
    "ExecuteTime": {
     "end_time": "2019-10-26T12:45:34.723676Z",
     "start_time": "2019-10-26T12:45:34.369849Z"
    }
   },
   "outputs": [],
   "source": [
    "pna = RS_ZNB20.NetworkAnalyzer('ZNB20')\n",
    "pump = Agilent_PSG.Generator('Generator_E8257D')\n",
    "bias = Keithley_6221.CurrentSource('GPIB2::10::INSTR')"
   ]
  },
  {
   "cell_type": "markdown",
   "metadata": {},
   "source": [
    "# Manual "
   ]
  },
  {
   "cell_type": "code",
   "execution_count": 3,
   "metadata": {
    "ExecuteTime": {
     "end_time": "2019-10-21T16:29:04.947475Z",
     "start_time": "2019-10-21T16:29:04.926488Z"
    }
   },
   "outputs": [
    {
     "data": {
      "text/plain": [
       "{'nop': 500,\n",
       " 'power': 10.0,\n",
       " 'start freq': 10000000.0,\n",
       " 'stop freq': 20000000000.0,\n",
       " 'span': 19990000000.0,\n",
       " 'bw': 1000.0,\n",
       " 'sweep mode': 'LIN\\n'}"
      ]
     },
     "execution_count": 3,
     "metadata": {},
     "output_type": "execute_result"
    }
   ],
   "source": [
    "pna.get_all()"
   ]
  },
  {
   "cell_type": "code",
   "execution_count": 182,
   "metadata": {
    "ExecuteTime": {
     "end_time": "2019-10-21T16:28:35.658748Z",
     "start_time": "2019-10-21T16:28:35.652751Z"
    }
   },
   "outputs": [],
   "source": [
    "pna.set_xlim(7e9, 8.5e9)"
   ]
  },
  {
   "cell_type": "code",
   "execution_count": null,
   "metadata": {
    "ExecuteTime": {
     "end_time": "2019-10-14T21:34:55.578833Z",
     "start_time": "2019-10-14T21:34:55.536414Z"
    }
   },
   "outputs": [],
   "source": [
    "pna.set_centerfreq(13.6e9/2)"
   ]
  },
  {
   "cell_type": "code",
   "execution_count": 179,
   "metadata": {
    "ExecuteTime": {
     "end_time": "2019-10-20T16:36:30.813492Z",
     "start_time": "2019-10-20T16:36:30.806497Z"
    }
   },
   "outputs": [
    {
     "data": {
      "text/plain": [
       "True"
      ]
     },
     "execution_count": 179,
     "metadata": {},
     "output_type": "execute_result"
    }
   ],
   "source": [
    "pna.set_frequency(7.75e9+1e6)"
   ]
  },
  {
   "cell_type": "code",
   "execution_count": 55,
   "metadata": {
    "ExecuteTime": {
     "end_time": "2019-10-21T16:28:04.328453Z",
     "start_time": "2019-10-21T16:28:04.322456Z"
    }
   },
   "outputs": [
    {
     "data": {
      "text/plain": [
       "True"
      ]
     },
     "execution_count": 55,
     "metadata": {},
     "output_type": "execute_result"
    }
   ],
   "source": [
    "pna.set_sweep_mode('lin')"
   ]
  },
  {
   "cell_type": "code",
   "execution_count": 4,
   "metadata": {
    "ExecuteTime": {
     "end_time": "2019-10-21T16:28:12.546401Z",
     "start_time": "2019-10-21T16:28:12.508426Z"
    }
   },
   "outputs": [
    {
     "data": {
      "text/plain": [
       "True"
      ]
     },
     "execution_count": 4,
     "metadata": {},
     "output_type": "execute_result"
    }
   ],
   "source": [
    "pna.set_nop(20000)"
   ]
  },
  {
   "cell_type": "code",
   "execution_count": 5,
   "metadata": {
    "ExecuteTime": {
     "end_time": "2019-10-21T16:28:13.315305Z",
     "start_time": "2019-10-21T16:28:13.308310Z"
    }
   },
   "outputs": [
    {
     "data": {
      "text/plain": [
       "True"
      ]
     },
     "execution_count": 5,
     "metadata": {},
     "output_type": "execute_result"
    }
   ],
   "source": [
    "pna.set_bandwidth(100)"
   ]
  },
  {
   "cell_type": "code",
   "execution_count": 7,
   "metadata": {
    "ExecuteTime": {
     "end_time": "2019-10-21T16:28:40.506640Z",
     "start_time": "2019-10-21T16:28:40.500644Z"
    }
   },
   "outputs": [
    {
     "data": {
      "text/plain": [
       "True"
      ]
     },
     "execution_count": 7,
     "metadata": {},
     "output_type": "execute_result"
    }
   ],
   "source": [
    "pna.set_power(5)"
   ]
  },
  {
   "cell_type": "code",
   "execution_count": 6,
   "metadata": {
    "ExecuteTime": {
     "end_time": "2019-10-21T01:01:36.829660Z",
     "start_time": "2019-10-21T01:01:36.780692Z"
    }
   },
   "outputs": [
    {
     "data": {
      "text/plain": [
       "{'status': True, 'freq': 14370000000.0, 'power': 1.1}"
      ]
     },
     "execution_count": 6,
     "metadata": {},
     "output_type": "execute_result"
    }
   ],
   "source": [
    "pump.get_all()"
   ]
  },
  {
   "cell_type": "code",
   "execution_count": 17,
   "metadata": {
    "ExecuteTime": {
     "end_time": "2019-10-21T16:29:53.528986Z",
     "start_time": "2019-10-21T16:29:53.521990Z"
    }
   },
   "outputs": [
    {
     "data": {
      "text/plain": [
       "True"
      ]
     },
     "execution_count": 17,
     "metadata": {},
     "output_type": "execute_result"
    }
   ],
   "source": [
    "pump.set_status(1)"
   ]
  },
  {
   "cell_type": "code",
   "execution_count": null,
   "metadata": {
    "ExecuteTime": {
     "end_time": "2019-10-20T16:36:47.540114Z",
     "start_time": "2019-10-20T16:36:47.518126Z"
    }
   },
   "outputs": [],
   "source": [
    "pump.set_frequency(7.625e9*2)"
   ]
  },
  {
   "cell_type": "code",
   "execution_count": 409,
   "metadata": {
    "ExecuteTime": {
     "end_time": "2019-10-20T16:25:14.148386Z",
     "start_time": "2019-10-20T16:25:14.139391Z"
    }
   },
   "outputs": [
    {
     "data": {
      "text/plain": [
       "True"
      ]
     },
     "execution_count": 409,
     "metadata": {},
     "output_type": "execute_result"
    }
   ],
   "source": [
    "pump.set_power(7.15)"
   ]
  },
  {
   "cell_type": "code",
   "execution_count": 350,
   "metadata": {
    "ExecuteTime": {
     "end_time": "2019-10-13T23:04:00.861156Z",
     "start_time": "2019-10-13T23:04:00.850676Z"
    }
   },
   "outputs": [
    {
     "data": {
      "text/plain": [
       "True"
      ]
     },
     "execution_count": 350,
     "metadata": {},
     "output_type": "execute_result"
    }
   ],
   "source": [
    "pump.set_phase(-1.5)"
   ]
  },
  {
   "cell_type": "code",
   "execution_count": 18,
   "metadata": {
    "ExecuteTime": {
     "end_time": "2019-10-21T01:01:26.188263Z",
     "start_time": "2019-10-21T01:01:26.180268Z"
    }
   },
   "outputs": [
    {
     "name": "stdout",
     "output_type": "stream",
     "text": [
      "Output: 1\n",
      "Current: 0.001731\n",
      "Range: 0.01\n"
     ]
    }
   ],
   "source": [
    "print(\"Output:\",bias.get_status())\n",
    "print(\"Current:\",bias.get_current())\n",
    "print(\"Range:\",bias.get_range())"
   ]
  },
  {
   "cell_type": "code",
   "execution_count": 341,
   "metadata": {},
   "outputs": [
    {
     "data": {
      "text/plain": [
       "True"
      ]
     },
     "execution_count": 341,
     "metadata": {},
     "output_type": "execute_result"
    }
   ],
   "source": [
    "bias.set_range(100e-3)"
   ]
  },
  {
   "cell_type": "code",
   "execution_count": 6,
   "metadata": {},
   "outputs": [
    {
     "data": {
      "text/plain": [
       "True"
      ]
     },
     "execution_count": 6,
     "metadata": {},
     "output_type": "execute_result"
    }
   ],
   "source": [
    "bias.set_status(0)"
   ]
  },
  {
   "cell_type": "code",
   "execution_count": 343,
   "metadata": {
    "ExecuteTime": {
     "end_time": "2019-10-14T21:45:54.592727Z",
     "start_time": "2019-10-14T21:45:54.584243Z"
    }
   },
   "outputs": [
    {
     "data": {
      "text/plain": [
       "True"
      ]
     },
     "execution_count": 343,
     "metadata": {},
     "output_type": "execute_result"
    }
   ],
   "source": [
    "bias.set_current(-0.7e-3 )"
   ]
  },
  {
   "cell_type": "code",
   "execution_count": 53,
   "metadata": {},
   "outputs": [],
   "source": [
    "op = tt.ind(12)\n",
    "tuner.set_op(op)"
   ]
  },
  {
   "cell_type": "code",
   "execution_count": 16,
   "metadata": {},
   "outputs": [],
   "source": [
    "pna.post_sweep()"
   ]
  },
  {
   "cell_type": "code",
   "execution_count": 54,
   "metadata": {},
   "outputs": [
    {
     "data": {
      "text/plain": [
       "14800000000.0"
      ]
     },
     "execution_count": 54,
     "metadata": {},
     "output_type": "execute_result"
    }
   ],
   "source": [
    "op.Fp"
   ]
  },
  {
   "cell_type": "markdown",
   "metadata": {},
   "source": [
    "# Network analyzer snapshot"
   ]
  },
  {
   "cell_type": "code",
   "execution_count": 15,
   "metadata": {
    "ExecuteTime": {
     "end_time": "2019-10-21T16:31:03.435233Z",
     "start_time": "2019-10-21T16:30:44.543424Z"
    },
    "scrolled": true
   },
   "outputs": [
    {
     "data": {
      "image/png": "[encoded data removed]",
      "text/plain": [
       "<Figure size 432x288 with 1 Axes>"
      ]
     },
     "metadata": {
      "needs_background": "light"
     },
     "output_type": "display_data"
    },
    {
     "data": {
      "image/png": "[encoded data removed]",
      "text/plain": [
       "<Figure size 432x288 with 1 Axes>"
      ]
     },
     "metadata": {
      "needs_background": "light"
     },
     "output_type": "display_data"
    }
   ],
   "source": [
    "save_data = False\n",
    "pna.set_sweep_mode('lin')\n",
    "F = pna.get_freqpoints()\n",
    "pna.pre_sweep()\n",
    "data = pna.get_tracedata(format = 'REALIMAG')\n",
    "S21 = data[0]+1.j*data[1]\n",
    "figure(\"mag\")\n",
    "plot(F, 20*log10(abs(S21)))\n",
    "figure(\"delay\")\n",
    "plot(F[1:], diff( unwrap(angle(S21)) ) )\n",
    "if save_data:\n",
    "    filename = \"S21vsF\"\n",
    "    ts = timestamp()\n",
    "    full_path = savepath+\"\\\\\"+ts+\"_\"+filename\n",
    "    savefig(full_path+\".png\", dpi = 300)\n",
    "    f = open(full_path+\".pkl\", 'wb')\n",
    "    pickle.dump({'S21':S21, 'F':F, \"Power\":pna.get_power(), \"Bandwidth\":pna.get_bandwidth()} , f)\n",
    "    f.close()\n",
    "#xlim((6.95e9,7.05e9))"
   ]
  },
  {
   "cell_type": "code",
   "execution_count": null,
   "metadata": {
    "ExecuteTime": {
     "end_time": "2019-10-13T23:12:18.586213Z",
     "start_time": "2019-10-13T23:12:18.582222Z"
    }
   },
   "outputs": [],
   "source": [
    "S21_ref = S21"
   ]
  },
  {
   "cell_type": "markdown",
   "metadata": {},
   "source": [
    "# Network analyzer CW snapshot"
   ]
  },
  {
   "cell_type": "code",
   "execution_count": 59,
   "metadata": {
    "ExecuteTime": {
     "end_time": "2019-10-26T14:44:46.273949Z",
     "start_time": "2019-10-26T14:44:46.270456Z"
    }
   },
   "outputs": [],
   "source": [
    "f_cw = 7.25e9-2e6\n",
    "filename = 'snr'"
   ]
  },
  {
   "cell_type": "code",
   "execution_count": 81,
   "metadata": {
    "ExecuteTime": {
     "end_time": "2019-10-26T14:53:04.707465Z",
     "start_time": "2019-10-26T14:53:03.772686Z"
    }
   },
   "outputs": [
    {
     "data": {
      "image/png": "[encoded data removed]",
      "text/plain": [
       "<Figure size 432x288 with 1 Axes>"
      ]
     },
     "metadata": {
      "needs_background": "light"
     },
     "output_type": "display_data"
    }
   ],
   "source": [
    "pump.set_status(1)\n",
    "pna.set_sweep_mode('cw')\n",
    "pna.set_frequency(f_cw)\n",
    "pna.set_nop(1000)\n",
    "pna.set_bandwidth(100e3)\n",
    "pna.pre_sweep()\n",
    "data = pna.get_tracedata(format = 'REALIMAG')\n",
    "swe_time = pna.get_sweep_time()\n",
    "S21_on = data[0]+1.j*data[1]\n",
    "plot(S21_on.real, S21_on.imag)\n",
    "pump.set_status(0)\n",
    "time.sleep(0.1)\n",
    "data = pna.get_tracedata(format = 'REALIMAG')\n",
    "pna.post_sweep()\n",
    "S21_off = data[0]+1.j*data[1]\n",
    "plot(S21_off.real, S21_off.imag)\n",
    "grid()\n",
    "gca().set_aspect('equal')\n",
    "pump.set_status(1)\n",
    "xlabel(\"Re(S21)\")\n",
    "ylabel(\"Im(S21)\")\n",
    "tight_layout()\n",
    "ts = timestamp()\n",
    "full_path = savepath+\"\\\\\"+ts+\"_\"+filename\n",
    "savefig(full_path+\".png\", dpi = 300)\n",
    "f = open(full_path+\".pkl\", 'wb')\n",
    "pickle.dump({'S21_on':S21_on, 'S21_on':S21_off, \"time\": swe_time, \"Power\":pna.get_power(), \"Bandwidth\":pna.get_bandwidth()} , f)\n",
    "f.close()"
   ]
  },
  {
   "cell_type": "code",
   "execution_count": 82,
   "metadata": {
    "ExecuteTime": {
     "end_time": "2019-10-26T14:53:06.220531Z",
     "start_time": "2019-10-26T14:53:06.214542Z"
    }
   },
   "outputs": [
    {
     "data": {
      "text/plain": [
       "1.1954629344624295"
      ]
     },
     "execution_count": 82,
     "metadata": {},
     "output_type": "execute_result"
    }
   ],
   "source": [
    "snr_off= abs(mean(S21_off))/std(S21_off) \n",
    "snr_on = abs(mean(S21_on))/std(S21_on) \n",
    "snr_on/snr_off"
   ]
  },
  {
   "cell_type": "code",
   "execution_count": null,
   "metadata": {
    "ExecuteTime": {
     "end_time": "2019-10-13T23:04:20.329711Z",
     "start_time": "2019-10-13T23:04:20.319731Z"
    }
   },
   "outputs": [],
   "source": [
    "f = open(savepath+'\\\\7GHz_S21.pkl', 'wb')\n",
    "pickle.dump({'S21_on':S21_on, 'S21_on':S21_off, \"time\": swe_time, \"Power\":pna.get_power(), \"Bandwidth\":pna.get_bandwidth()} , f)\n",
    "f.close()"
   ]
  },
  {
   "cell_type": "code",
   "execution_count": null,
   "metadata": {
    "ExecuteTime": {
     "end_time": "2019-10-13T21:16:20.730232Z",
     "start_time": "2019-10-13T21:16:20.725241Z"
    }
   },
   "outputs": [],
   "source": [
    "mean(20*log10(abs(S21_on)))"
   ]
  },
  {
   "cell_type": "markdown",
   "metadata": {
    "ExecuteTime": {
     "end_time": "2019-10-13T20:30:29.026288Z",
     "start_time": "2019-10-13T20:30:29.022295Z"
    }
   },
   "source": [
    "# S21 pump phase dependavce"
   ]
  },
  {
   "cell_type": "code",
   "execution_count": null,
   "metadata": {
    "ExecuteTime": {
     "end_time": "2019-10-13T23:03:23.750487Z",
     "start_time": "2019-10-13T23:03:18.954206Z"
    }
   },
   "outputs": [],
   "source": [
    "save_data =False\n",
    "phases = linspace(-pi,pi,200)\n",
    "pna.set_sweep_mode('cw')\n",
    "pna.set_frequency(f_cw)\n",
    "pna.set_nop(1)\n",
    "pna.set_bandwidth(100)\n",
    "\n",
    "S21 = array([],dtype = complex)\n",
    "for ph in phases:\n",
    "    pump.set_phase(ph)\n",
    "    data = pna.get_tracedata(format = 'REALIMAG')\n",
    "    S21 = hstack([S21,data[0]+1.j*data[1]])\n",
    "plot(phases, 20*log10(abs(S21)))\n",
    "if save_data:\n",
    "    filename = \"S21vsPhase\"\n",
    "    ts = timestamp()\n",
    "    full_path = savepath+\"\\\\\"+ts+\"_\"+filename\n",
    "    savefig(full_path+\".png\", dpi = 300)\n",
    "    f = open(full_path+\".pkl\", 'wb')\n",
    "    pickle.dump({'S21':S21, \"Phase\":phases ,'F':f_cw, \"Power\":pna.get_power(), \"Bandwidth\":pna.get_bandwidth()} , f)\n",
    "    f.close()"
   ]
  },
  {
   "cell_type": "markdown",
   "metadata": {},
   "source": [
    "# Gain compression"
   ]
  },
  {
   "cell_type": "code",
   "execution_count": null,
   "metadata": {
    "ExecuteTime": {
     "end_time": "2019-10-13T21:45:18.654960Z",
     "start_time": "2019-10-13T21:45:04.158006Z"
    }
   },
   "outputs": [],
   "source": [
    "detuning = 1e6\n",
    "pna.set_sweep_mode('cw')\n",
    "pna.set_frequency(f_cw+detuning )\n",
    "pna.set_nop(1)\n",
    "pna.set_bandwidth(100)\n",
    "\n",
    "powers = arange(-70,-5,1)\n",
    "ref_p = -50\n",
    "ref_bw = 100\n",
    "min_bw= 1\n",
    "\n",
    "def set_power(p):\n",
    "    pna.set_power(p)\n",
    "    bw = 10**((p - ref_p)/10)*ref_bw \n",
    "    if bw<min_bw:\n",
    "        bw = min_bw\n",
    "    pna.set_bandwidth( bw ) \n",
    "    time.sleep(0.1)\n",
    "result = sweeper.sweep(pna, (powers, set_power, 'Power'), measurement_type = \"gain_compression\")"
   ]
  },
  {
   "cell_type": "code",
   "execution_count": null,
   "metadata": {},
   "outputs": [],
   "source": []
  },
  {
   "cell_type": "code",
   "execution_count": null,
   "metadata": {
    "ExecuteTime": {
     "end_time": "2019-10-13T21:45:23.887244Z",
     "start_time": "2019-10-13T21:45:23.672154Z"
    }
   },
   "outputs": [],
   "source": [
    "plot(result.datasets['S-parameter'].parameters[0].values, 20*log10(abs(result.datasets['S-parameter'].data)))\n"
   ]
  },
  {
   "cell_type": "markdown",
   "metadata": {},
   "source": [
    "## Gain compression with tuning table"
   ]
  },
  {
   "cell_type": "code",
   "execution_count": 2,
   "metadata": {
    "ExecuteTime": {
     "end_time": "2019-10-21T21:44:28.058622Z",
     "start_time": "2019-10-21T21:44:28.046630Z"
    }
   },
   "outputs": [
    {
     "ename": "NameError",
     "evalue": "name 'jpa_tuning' is not defined",
     "output_type": "error",
     "traceback": [
      "\u001b[1;31m---------------------------------------------------------------------------\u001b[0m",
      "\u001b[1;31mNameError\u001b[0m                                 Traceback (most recent call last)",
      "\u001b[1;32m<ipython-input-2-4bd17c827fe0>\u001b[0m in \u001b[0;36m<module>\u001b[1;34m\u001b[0m\n\u001b[1;32m----> 1\u001b[1;33m \u001b[0mtt\u001b[0m \u001b[1;33m=\u001b[0m \u001b[0mjpa_tuning\u001b[0m\u001b[1;33m.\u001b[0m\u001b[0mTuningTable\u001b[0m\u001b[1;33m(\u001b[0m\u001b[1;33m)\u001b[0m\u001b[1;33m\u001b[0m\u001b[1;33m\u001b[0m\u001b[0m\n\u001b[0m\u001b[0;32m      2\u001b[0m \u001b[0mtt\u001b[0m\u001b[1;33m.\u001b[0m\u001b[0mload\u001b[0m\u001b[1;33m(\u001b[0m\u001b[0msavepath\u001b[0m\u001b[1;33m+\u001b[0m\u001b[1;34m\"\\\\TuningTables\\\\20db.txt\"\u001b[0m\u001b[1;33m)\u001b[0m\u001b[1;33m\u001b[0m\u001b[1;33m\u001b[0m\u001b[0m\n",
      "\u001b[1;31mNameError\u001b[0m: name 'jpa_tuning' is not defined"
     ]
    }
   ],
   "source": [
    "tt = jpa_tuning.TuningTable()\n",
    "tt.load(savepath+\"\\\\TuningTables\\\\20db.txt\")"
   ]
  },
  {
   "cell_type": "code",
   "execution_count": 429,
   "metadata": {
    "ExecuteTime": {
     "end_time": "2019-10-21T21:52:38.008592Z",
     "start_time": "2019-10-21T21:44:29.607661Z"
    }
   },
   "outputs": [
    {
     "name": "stdout",
     "output_type": "stream",
     "text": [
      "S-parameter\n",
      "S-parameter\n",
      "S-parameter\n",
      "S-parameter\n",
      "S-parameter\n",
      "S-parameter\n",
      "S-parameter\n",
      "S-parameter\n",
      "S-parameter\n",
      "S-parameter\n",
      "S-parameter\n",
      "S-parameter\n",
      "S-parameter\n",
      "S-parameter\n",
      "S-parameter\n",
      "S-parameter\n",
      "S-parameter\n",
      "S-parameter\n",
      "S-parameter\n",
      "S-parameter\n",
      "S-parameter\n",
      "S-parameter\n",
      "S-parameter\n",
      "S-parameter\n",
      "S-parameter\n",
      "S-parameter\n",
      "S-parameter\n",
      "S-parameter\n",
      "S-parameter\n",
      "S-parameter\n",
      "S-parameter\n",
      "S-parameter\n",
      "S-parameter\n",
      "S-parameter\n",
      "S-parameter\n",
      "S-parameter\n",
      "S-parameter\n",
      "S-parameter\n",
      "S-parameter\n",
      "S-parameter\n",
      "S-parameter\n",
      "S-parameter\n",
      "S-parameter\n",
      "S-parameter\n",
      "S-parameter\n",
      "S-parameter\n",
      "S-parameter\n",
      "S-parameter\n",
      "S-parameter\n",
      "S-parameter\n",
      "S-parameter\n",
      "S-parameter\n",
      "S-parameter\n",
      "S-parameter\n",
      "S-parameter\n",
      "S-parameter\n",
      "S-parameter\n",
      "S-parameter\n",
      "S-parameter\n",
      "S-parameter\n",
      "S-parameter\n",
      "S-parameter\n",
      "S-parameter\n",
      "S-parameter\n",
      "S-parameter\n",
      "S-parameter\n",
      "S-parameter\n",
      "S-parameter\n",
      "S-parameter\n",
      "S-parameter\n",
      "S-parameter\n",
      "S-parameter\n",
      "S-parameter\n",
      "S-parameter\n",
      "S-parameter\n",
      "S-parameter\n",
      "S-parameter\n",
      "S-parameter\n",
      "S-parameter\n",
      "S-parameter\n",
      "S-parameter\n",
      "S-parameter\n",
      "S-parameter\n",
      "S-parameter\n",
      "S-parameter\n",
      "S-parameter\n",
      "S-parameter\n",
      "S-parameter\n",
      "S-parameter\n",
      "S-parameter\n",
      "S-parameter\n",
      "S-parameter\n",
      "S-parameter\n",
      "S-parameter\n",
      "S-parameter\n",
      "S-parameter\n",
      "S-parameter\n",
      "S-parameter\n",
      "S-parameter\n",
      "S-parameter\n",
      "S-parameter\n",
      "S-parameter\n",
      "S-parameter\n",
      "S-parameter\n",
      "S-parameter\n",
      "S-parameter\n",
      "S-parameter\n",
      "S-parameter\n",
      "S-parameter\n",
      "S-parameter\n",
      "S-parameter\n",
      "S-parameter\n",
      "S-parameter\n",
      "S-parameter\n",
      "S-parameter\n",
      "S-parameter\n",
      "S-parameter\n",
      "S-parameter\n",
      "S-parameter\n",
      "S-parameter\n",
      "S-parameter\n",
      "S-parameter\n",
      "S-parameter\n",
      "S-parameter\n",
      "S-parameter\n",
      "S-parameter\n",
      "S-parameter\n",
      "S-parameter\n",
      "S-parameter\n",
      "S-parameter\n",
      "S-parameter\n",
      "S-parameter\n",
      "S-parameter\n",
      "S-parameter\n",
      "S-parameter\n",
      "S-parameter\n",
      "S-parameter\n",
      "S-parameter\n",
      "S-parameter\n",
      "S-parameter\n",
      "S-parameter\n",
      "S-parameter\n",
      "S-parameter\n",
      "S-parameter\n",
      "S-parameter\n",
      "S-parameter\n",
      "S-parameter\n",
      "S-parameter\n",
      "S-parameter\n",
      "S-parameter\n",
      "S-parameter\n",
      "S-parameter\n",
      "S-parameter\n",
      "S-parameter\n",
      "S-parameter\n",
      "S-parameter\n",
      "S-parameter\n",
      "S-parameter\n",
      "S-parameter\n",
      "S-parameter\n",
      "S-parameter\n",
      "S-parameter\n",
      "S-parameter\n",
      "S-parameter\n",
      "S-parameter\n",
      "S-parameter\n",
      "S-parameter\n",
      "S-parameter\n",
      "S-parameter\n",
      "S-parameter\n",
      "S-parameter\n",
      "S-parameter\n",
      "S-parameter\n",
      "S-parameter\n",
      "S-parameter\n",
      "S-parameter\n",
      "S-parameter\n",
      "S-parameter\n",
      "S-parameter\n",
      "S-parameter\n",
      "S-parameter\n",
      "S-parameter\n",
      "S-parameter\n",
      "S-parameter\n",
      "S-parameter\n",
      "S-parameter\n",
      "S-parameter\n",
      "S-parameter\n",
      "S-parameter\n",
      "S-parameter\n",
      "S-parameter\n",
      "S-parameter\n",
      "S-parameter\n",
      "S-parameter\n",
      "S-parameter\n",
      "S-parameter\n",
      "S-parameter\n",
      "S-parameter\n",
      "S-parameter\n",
      "S-parameter\n",
      "S-parameter\n",
      "S-parameter\n",
      "S-parameter\n",
      "S-parameter\n",
      "S-parameter\n",
      "S-parameter\n",
      "S-parameter\n",
      "S-parameter\n",
      "S-parameter\n",
      "S-parameter\n",
      "S-parameter\n",
      "S-parameter\n",
      "S-parameter\n",
      "S-parameter\n",
      "S-parameter\n",
      "S-parameter\n",
      "S-parameter\n",
      "S-parameter\n",
      "S-parameter\n",
      "S-parameter\n",
      "S-parameter\n",
      "S-parameter\n",
      "S-parameter\n",
      "S-parameter\n",
      "S-parameter\n",
      "S-parameter\n",
      "S-parameter\n",
      "S-parameter\n",
      "S-parameter\n",
      "S-parameter\n",
      "S-parameter\n",
      "S-parameter\n",
      "S-parameter\n",
      "S-parameter\n",
      "S-parameter\n",
      "S-parameter\n",
      "S-parameter\n",
      "S-parameter\n",
      "S-parameter\n",
      "S-parameter\n",
      "S-parameter\n",
      "S-parameter\n",
      "S-parameter\n",
      "S-parameter\n",
      "S-parameter\n",
      "S-parameter\n",
      "S-parameter\n",
      "S-parameter\n",
      "S-parameter\n",
      "S-parameter\n",
      "S-parameter\n",
      "S-parameter\n",
      "S-parameter\n",
      "S-parameter\n",
      "S-parameter\n",
      "S-parameter\n",
      "S-parameter\n",
      "S-parameter\n",
      "S-parameter\n",
      "S-parameter\n",
      "S-parameter\n",
      "S-parameter\n",
      "S-parameter\n",
      "S-parameter\n",
      "S-parameter\n",
      "S-parameter\n",
      "S-parameter\n",
      "S-parameter\n",
      "S-parameter\n",
      "S-parameter\n",
      "S-parameter\n",
      "S-parameter\n",
      "S-parameter\n",
      "S-parameter\n",
      "S-parameter\n",
      "S-parameter\n",
      "S-parameter\n",
      "S-parameter\n",
      "S-parameter\n",
      "S-parameter\n",
      "S-parameter\n",
      "S-parameter\n",
      "S-parameter\n",
      "S-parameter\n",
      "S-parameter\n",
      "S-parameter\n",
      "S-parameter\n",
      "S-parameter\n",
      "S-parameter\n",
      "S-parameter\n",
      "S-parameter\n",
      "S-parameter\n",
      "S-parameter\n",
      "S-parameter\n",
      "S-parameter\n",
      "S-parameter\n",
      "S-parameter\n",
      "S-parameter\n",
      "S-parameter\n",
      "S-parameter\n",
      "S-parameter\n",
      "S-parameter\n",
      "S-parameter\n",
      "S-parameter\n",
      "S-parameter\n",
      "S-parameter\n",
      "S-parameter\n",
      "S-parameter\n",
      "S-parameter\n",
      "S-parameter\n",
      "S-parameter\n",
      "S-parameter\n",
      "S-parameter\n",
      "S-parameter\n",
      "S-parameter\n",
      "S-parameter\n",
      "S-parameter\n",
      "S-parameter\n",
      "S-parameter\n",
      "S-parameter\n",
      "S-parameter\n",
      "S-parameter\n",
      "S-parameter\n",
      "S-parameter\n",
      "S-parameter\n",
      "S-parameter\n",
      "S-parameter\n",
      "S-parameter\n",
      "S-parameter\n",
      "S-parameter\n",
      "S-parameter\n",
      "S-parameter\n",
      "S-parameter\n",
      "S-parameter\n",
      "S-parameter\n",
      "S-parameter\n",
      "S-parameter\n",
      "S-parameter\n",
      "S-parameter\n",
      "S-parameter\n",
      "S-parameter\n",
      "S-parameter\n",
      "S-parameter\n",
      "S-parameter\n",
      "S-parameter\n",
      "S-parameter\n",
      "S-parameter\n",
      "S-parameter\n",
      "S-parameter\n",
      "S-parameter\n",
      "S-parameter\n",
      "S-parameter\n",
      "S-parameter\n",
      "S-parameter\n",
      "S-parameter\n",
      "S-parameter\n",
      "S-parameter\n",
      "S-parameter\n",
      "S-parameter\n",
      "S-parameter\n",
      "S-parameter\n",
      "S-parameter\n",
      "S-parameter\n",
      "S-parameter\n",
      "S-parameter\n",
      "S-parameter\n",
      "S-parameter\n",
      "S-parameter\n",
      "S-parameter\n",
      "S-parameter\n",
      "S-parameter\n",
      "S-parameter\n",
      "S-parameter\n",
      "S-parameter\n",
      "S-parameter\n",
      "S-parameter\n",
      "S-parameter\n",
      "S-parameter\n",
      "S-parameter\n",
      "S-parameter\n",
      "S-parameter\n",
      "S-parameter\n",
      "S-parameter\n",
      "S-parameter\n",
      "S-parameter\n",
      "S-parameter\n",
      "S-parameter\n",
      "S-parameter\n",
      "S-parameter\n",
      "S-parameter\n",
      "S-parameter\n",
      "S-parameter\n",
      "S-parameter\n",
      "S-parameter\n",
      "S-parameter\n",
      "S-parameter\n",
      "S-parameter\n",
      "S-parameter\n",
      "S-parameter\n",
      "S-parameter\n",
      "S-parameter\n",
      "S-parameter\n",
      "S-parameter\n",
      "S-parameter\n",
      "S-parameter\n",
      "S-parameter\n",
      "S-parameter\n",
      "S-parameter\n",
      "S-parameter\n",
      "S-parameter\n",
      "S-parameter\n",
      "S-parameter\n",
      "S-parameter\n",
      "S-parameter\n",
      "S-parameter\n",
      "S-parameter\n",
      "S-parameter\n",
      "S-parameter\n",
      "S-parameter\n",
      "S-parameter\n",
      "S-parameter\n",
      "S-parameter\n",
      "S-parameter\n",
      "S-parameter\n",
      "S-parameter\n",
      "S-parameter\n",
      "S-parameter\n",
      "S-parameter\n",
      "S-parameter\n",
      "S-parameter\n",
      "S-parameter\n",
      "S-parameter\n",
      "S-parameter\n",
      "S-parameter\n",
      "S-parameter\n",
      "S-parameter\n",
      "S-parameter\n",
      "S-parameter\n",
      "S-parameter\n",
      "S-parameter\n",
      "S-parameter\n",
      "S-parameter\n",
      "S-parameter\n",
      "S-parameter\n",
      "S-parameter\n",
      "S-parameter\n",
      "S-parameter\n",
      "S-parameter\n",
      "S-parameter\n",
      "S-parameter\n",
      "S-parameter\n",
      "S-parameter\n",
      "S-parameter\n",
      "S-parameter\n",
      "S-parameter\n",
      "S-parameter\n",
      "S-parameter\n",
      "S-parameter\n",
      "S-parameter\n",
      "S-parameter\n",
      "S-parameter\n",
      "S-parameter\n",
      "S-parameter\n",
      "S-parameter\n",
      "S-parameter\n",
      "S-parameter\n",
      "S-parameter\n",
      "S-parameter\n",
      "S-parameter\n",
      "S-parameter\n",
      "S-parameter\n",
      "S-parameter\n",
      "S-parameter\n",
      "S-parameter\n",
      "S-parameter\n",
      "S-parameter\n",
      "S-parameter\n",
      "S-parameter\n",
      "S-parameter\n",
      "S-parameter\n",
      "S-parameter\n",
      "S-parameter\n",
      "S-parameter\n",
      "S-parameter\n",
      "S-parameter\n",
      "S-parameter\n",
      "S-parameter\n",
      "S-parameter\n",
      "S-parameter\n",
      "S-parameter\n",
      "S-parameter\n",
      "S-parameter\n",
      "S-parameter\n",
      "S-parameter\n",
      "S-parameter\n",
      "S-parameter\n",
      "S-parameter\n",
      "S-parameter\n",
      "S-parameter\n",
      "S-parameter\n",
      "S-parameter\n",
      "S-parameter\n",
      "S-parameter\n",
      "S-parameter\n",
      "S-parameter\n",
      "S-parameter\n",
      "S-parameter\n",
      "S-parameter\n",
      "S-parameter\n",
      "S-parameter\n",
      "S-parameter\n",
      "S-parameter\n",
      "S-parameter\n",
      "S-parameter\n",
      "S-parameter\n",
      "S-parameter\n",
      "S-parameter\n",
      "S-parameter\n",
      "S-parameter\n",
      "S-parameter\n",
      "S-parameter\n",
      "S-parameter\n",
      "S-parameter\n",
      "S-parameter\n",
      "S-parameter\n",
      "S-parameter\n",
      "S-parameter\n",
      "S-parameter\n",
      "S-parameter\n",
      "S-parameter\n",
      "S-parameter\n",
      "S-parameter\n",
      "S-parameter\n",
      "S-parameter\n",
      "S-parameter\n",
      "S-parameter\n",
      "S-parameter\n",
      "S-parameter\n",
      "S-parameter\n",
      "S-parameter\n",
      "S-parameter\n",
      "S-parameter\n",
      "S-parameter\n",
      "S-parameter\n",
      "S-parameter\n",
      "S-parameter\n",
      "S-parameter\n",
      "S-parameter\n",
      "S-parameter\n",
      "S-parameter\n",
      "S-parameter\n",
      "S-parameter\n",
      "S-parameter\n",
      "S-parameter\n",
      "S-parameter\n",
      "S-parameter\n",
      "S-parameter\n",
      "S-parameter\n",
      "S-parameter\n",
      "S-parameter\n",
      "S-parameter\n",
      "S-parameter\n",
      "S-parameter\n",
      "S-parameter\n",
      "S-parameter\n",
      "S-parameter\n",
      "S-parameter\n",
      "S-parameter\n",
      "S-parameter\n",
      "S-parameter\n",
      "S-parameter\n",
      "S-parameter\n",
      "S-parameter\n",
      "S-parameter\n",
      "S-parameter\n",
      "S-parameter\n",
      "S-parameter\n",
      "S-parameter\n",
      "S-parameter\n",
      "S-parameter\n",
      "S-parameter\n",
      "S-parameter\n",
      "S-parameter\n",
      "S-parameter\n",
      "S-parameter\n",
      "S-parameter\n",
      "S-parameter\n",
      "S-parameter\n",
      "S-parameter\n",
      "S-parameter\n",
      "S-parameter\n",
      "S-parameter\n",
      "S-parameter\n",
      "S-parameter\n",
      "S-parameter\n",
      "S-parameter\n",
      "S-parameter\n",
      "S-parameter\n",
      "S-parameter\n",
      "S-parameter\n",
      "S-parameter\n",
      "S-parameter\n",
      "S-parameter\n",
      "S-parameter\n",
      "S-parameter\n",
      "S-parameter\n",
      "S-parameter\n",
      "S-parameter\n",
      "S-parameter\n",
      "S-parameter\n",
      "S-parameter\n",
      "S-parameter\n",
      "S-parameter\n",
      "S-parameter\n",
      "S-parameter\n",
      "S-parameter\n",
      "S-parameter\n",
      "S-parameter\n",
      "S-parameter\n",
      "S-parameter\n",
      "S-parameter\n",
      "S-parameter\n",
      "S-parameter\n",
      "S-parameter\n",
      "S-parameter\n",
      "S-parameter\n",
      "S-parameter\n",
      "S-parameter\n",
      "S-parameter\n",
      "S-parameter\n",
      "S-parameter\n",
      "S-parameter\n",
      "S-parameter\n",
      "S-parameter\n",
      "S-parameter\n",
      "S-parameter\n",
      "S-parameter\n",
      "S-parameter\n",
      "S-parameter\n",
      "S-parameter\n",
      "S-parameter\n",
      "S-parameter\n",
      "S-parameter\n",
      "S-parameter\n",
      "S-parameter\n",
      "S-parameter\n",
      "S-parameter\n",
      "S-parameter\n",
      "S-parameter\n",
      "S-parameter\n",
      "S-parameter\n",
      "S-parameter\n",
      "S-parameter\n",
      "S-parameter\n",
      "S-parameter\n",
      "S-parameter\n",
      "S-parameter\n",
      "S-parameter\n",
      "S-parameter\n",
      "S-parameter\n",
      "S-parameter\n",
      "S-parameter\n",
      "S-parameter\n",
      "S-parameter\n",
      "S-parameter\n",
      "S-parameter\n",
      "S-parameter\n",
      "S-parameter\n",
      "S-parameter\n",
      "S-parameter\n",
      "S-parameter\n",
      "S-parameter\n",
      "S-parameter\n",
      "S-parameter\n",
      "S-parameter\n",
      "S-parameter\n",
      "S-parameter\n",
      "S-parameter\n",
      "S-parameter\n",
      "S-parameter\n",
      "S-parameter\n",
      "S-parameter\n",
      "S-parameter\n",
      "S-parameter\n"
     ]
    },
    {
     "name": "stdout",
     "output_type": "stream",
     "text": [
      "S-parameter\n",
      "S-parameter\n",
      "S-parameter\n",
      "S-parameter\n",
      "S-parameter\n",
      "S-parameter\n",
      "S-parameter\n",
      "S-parameter\n",
      "S-parameter\n",
      "S-parameter\n",
      "S-parameter\n",
      "S-parameter\n",
      "S-parameter\n",
      "S-parameter\n",
      "S-parameter\n",
      "S-parameter\n",
      "S-parameter\n",
      "S-parameter\n",
      "S-parameter\n",
      "S-parameter\n",
      "S-parameter\n",
      "S-parameter\n",
      "S-parameter\n",
      "S-parameter\n",
      "S-parameter\n",
      "S-parameter\n",
      "S-parameter\n",
      "S-parameter\n",
      "S-parameter\n",
      "S-parameter\n",
      "S-parameter\n",
      "S-parameter\n",
      "S-parameter\n",
      "S-parameter\n",
      "S-parameter\n",
      "S-parameter\n",
      "S-parameter\n",
      "S-parameter\n",
      "S-parameter\n",
      "S-parameter\n",
      "S-parameter\n",
      "S-parameter\n",
      "S-parameter\n",
      "S-parameter\n",
      "S-parameter\n",
      "S-parameter\n",
      "S-parameter\n",
      "S-parameter\n",
      "S-parameter\n",
      "S-parameter\n",
      "S-parameter\n",
      "S-parameter\n",
      "S-parameter\n",
      "S-parameter\n",
      "S-parameter\n",
      "S-parameter\n",
      "S-parameter\n",
      "S-parameter\n",
      "S-parameter\n",
      "S-parameter\n",
      "S-parameter\n",
      "S-parameter\n",
      "S-parameter\n",
      "S-parameter\n",
      "S-parameter\n",
      "S-parameter\n",
      "S-parameter\n",
      "S-parameter\n",
      "S-parameter\n",
      "S-parameter\n",
      "S-parameter\n",
      "S-parameter\n",
      "S-parameter\n",
      "S-parameter\n",
      "S-parameter\n",
      "S-parameter\n",
      "S-parameter\n",
      "S-parameter\n",
      "S-parameter\n",
      "S-parameter\n",
      "S-parameter\n",
      "S-parameter\n",
      "S-parameter\n",
      "S-parameter\n",
      "S-parameter\n",
      "S-parameter\n",
      "S-parameter\n",
      "S-parameter\n",
      "S-parameter\n",
      "S-parameter\n",
      "S-parameter\n",
      "S-parameter\n",
      "S-parameter\n",
      "S-parameter\n",
      "S-parameter\n",
      "S-parameter\n",
      "S-parameter\n",
      "S-parameter\n",
      "S-parameter\n",
      "S-parameter\n",
      "S-parameter\n",
      "S-parameter\n",
      "S-parameter\n",
      "S-parameter\n",
      "S-parameter\n",
      "S-parameter\n",
      "S-parameter\n",
      "S-parameter\n",
      "S-parameter\n",
      "S-parameter\n",
      "S-parameter\n",
      "S-parameter\n",
      "S-parameter\n",
      "S-parameter\n",
      "S-parameter\n",
      "S-parameter\n",
      "S-parameter\n",
      "S-parameter\n",
      "S-parameter\n",
      "S-parameter\n",
      "S-parameter\n",
      "S-parameter\n",
      "S-parameter\n",
      "S-parameter\n",
      "S-parameter\n",
      "S-parameter\n",
      "S-parameter\n",
      "S-parameter\n",
      "S-parameter\n",
      "S-parameter\n",
      "S-parameter\n",
      "S-parameter\n",
      "S-parameter\n",
      "S-parameter\n",
      "S-parameter\n",
      "S-parameter\n",
      "S-parameter\n",
      "S-parameter\n",
      "S-parameter\n",
      "S-parameter\n",
      "S-parameter\n",
      "S-parameter\n",
      "S-parameter\n",
      "S-parameter\n",
      "S-parameter\n",
      "S-parameter\n",
      "S-parameter\n",
      "S-parameter\n",
      "S-parameter\n",
      "S-parameter\n",
      "S-parameter\n",
      "S-parameter\n",
      "S-parameter\n",
      "S-parameter\n",
      "S-parameter\n",
      "S-parameter\n",
      "S-parameter\n",
      "S-parameter\n",
      "S-parameter\n",
      "S-parameter\n",
      "S-parameter\n",
      "S-parameter\n",
      "S-parameter\n",
      "S-parameter\n",
      "S-parameter\n",
      "S-parameter\n",
      "S-parameter\n",
      "S-parameter\n",
      "S-parameter\n",
      "S-parameter\n",
      "S-parameter\n",
      "S-parameter\n",
      "S-parameter\n",
      "S-parameter\n",
      "S-parameter\n",
      "S-parameter\n",
      "S-parameter\n",
      "S-parameter\n",
      "S-parameter\n",
      "S-parameter\n",
      "S-parameter\n",
      "S-parameter\n",
      "S-parameter\n",
      "S-parameter\n",
      "S-parameter\n",
      "S-parameter\n",
      "S-parameter\n",
      "S-parameter\n",
      "S-parameter\n",
      "S-parameter\n",
      "S-parameter\n",
      "S-parameter\n",
      "S-parameter\n",
      "S-parameter\n",
      "S-parameter\n",
      "S-parameter\n",
      "S-parameter\n",
      "S-parameter\n",
      "S-parameter\n",
      "S-parameter\n",
      "S-parameter\n",
      "S-parameter\n",
      "S-parameter\n",
      "S-parameter\n",
      "S-parameter\n",
      "S-parameter\n",
      "S-parameter\n",
      "S-parameter\n",
      "S-parameter\n",
      "S-parameter\n",
      "S-parameter\n",
      "S-parameter\n",
      "S-parameter\n",
      "S-parameter\n",
      "S-parameter\n",
      "S-parameter\n",
      "S-parameter\n",
      "S-parameter\n",
      "S-parameter\n",
      "S-parameter\n",
      "S-parameter\n",
      "S-parameter\n",
      "S-parameter\n",
      "S-parameter\n",
      "S-parameter\n",
      "S-parameter\n",
      "S-parameter\n",
      "S-parameter\n",
      "S-parameter\n",
      "S-parameter\n",
      "S-parameter\n",
      "S-parameter\n",
      "S-parameter\n",
      "S-parameter\n",
      "S-parameter\n",
      "S-parameter\n",
      "S-parameter\n",
      "S-parameter\n",
      "S-parameter\n",
      "S-parameter\n",
      "S-parameter\n",
      "S-parameter\n",
      "S-parameter\n",
      "S-parameter\n",
      "S-parameter\n",
      "S-parameter\n",
      "S-parameter\n",
      "S-parameter\n",
      "S-parameter\n",
      "S-parameter\n",
      "S-parameter\n",
      "S-parameter\n",
      "S-parameter\n",
      "S-parameter\n",
      "S-parameter\n",
      "S-parameter\n",
      "S-parameter\n",
      "S-parameter\n",
      "S-parameter\n",
      "S-parameter\n",
      "S-parameter\n",
      "S-parameter\n",
      "S-parameter\n",
      "S-parameter\n",
      "S-parameter\n",
      "S-parameter\n",
      "S-parameter\n",
      "S-parameter\n",
      "S-parameter\n",
      "S-parameter\n",
      "S-parameter\n",
      "S-parameter\n",
      "S-parameter\n",
      "S-parameter\n",
      "S-parameter\n",
      "S-parameter\n",
      "S-parameter\n",
      "S-parameter\n",
      "S-parameter\n",
      "S-parameter\n",
      "S-parameter\n",
      "S-parameter\n",
      "S-parameter\n",
      "S-parameter\n",
      "S-parameter\n",
      "S-parameter\n",
      "S-parameter\n",
      "S-parameter\n",
      "S-parameter\n",
      "S-parameter\n",
      "S-parameter\n",
      "S-parameter\n",
      "S-parameter\n",
      "S-parameter\n",
      "S-parameter\n",
      "S-parameter\n",
      "S-parameter\n",
      "S-parameter\n",
      "S-parameter\n",
      "S-parameter\n",
      "S-parameter\n",
      "S-parameter\n",
      "S-parameter\n",
      "S-parameter\n",
      "S-parameter\n",
      "S-parameter\n",
      "S-parameter\n",
      "S-parameter\n",
      "S-parameter\n",
      "S-parameter\n",
      "S-parameter\n",
      "S-parameter\n",
      "S-parameter\n",
      "S-parameter\n",
      "S-parameter\n",
      "S-parameter\n",
      "S-parameter\n",
      "S-parameter\n",
      "S-parameter\n",
      "S-parameter\n",
      "S-parameter\n",
      "S-parameter\n",
      "S-parameter\n",
      "S-parameter\n",
      "S-parameter\n",
      "S-parameter\n",
      "S-parameter\n",
      "S-parameter\n",
      "S-parameter\n",
      "S-parameter\n",
      "S-parameter\n",
      "S-parameter\n",
      "S-parameter\n",
      "S-parameter\n",
      "S-parameter\n",
      "S-parameter\n",
      "S-parameter\n",
      "S-parameter\n",
      "S-parameter\n",
      "S-parameter\n",
      "S-parameter\n",
      "S-parameter\n",
      "S-parameter\n",
      "S-parameter\n",
      "S-parameter\n",
      "S-parameter\n",
      "S-parameter\n",
      "S-parameter\n",
      "S-parameter\n",
      "S-parameter\n",
      "S-parameter\n",
      "S-parameter\n",
      "S-parameter\n",
      "S-parameter\n",
      "S-parameter\n",
      "S-parameter\n",
      "S-parameter\n",
      "S-parameter\n",
      "S-parameter\n",
      "S-parameter\n",
      "S-parameter\n",
      "S-parameter\n",
      "S-parameter\n",
      "S-parameter\n",
      "S-parameter\n",
      "S-parameter\n",
      "S-parameter\n",
      "S-parameter\n",
      "S-parameter\n",
      "S-parameter\n",
      "S-parameter\n",
      "S-parameter\n",
      "S-parameter\n",
      "S-parameter\n",
      "S-parameter\n",
      "S-parameter\n",
      "S-parameter\n",
      "S-parameter\n",
      "S-parameter\n",
      "S-parameter\n",
      "S-parameter\n",
      "S-parameter\n",
      "S-parameter\n",
      "S-parameter\n",
      "S-parameter\n",
      "S-parameter\n",
      "S-parameter\n",
      "S-parameter\n",
      "S-parameter\n",
      "S-parameter\n",
      "S-parameter\n",
      "S-parameter\n",
      "S-parameter\n",
      "S-parameter\n",
      "S-parameter\n",
      "S-parameter\n",
      "S-parameter\n",
      "S-parameter\n",
      "S-parameter\n",
      "S-parameter\n",
      "S-parameter\n",
      "S-parameter\n",
      "S-parameter\n",
      "S-parameter\n",
      "S-parameter\n",
      "S-parameter\n",
      "S-parameter\n",
      "S-parameter\n",
      "S-parameter\n",
      "S-parameter\n",
      "S-parameter\n",
      "S-parameter\n",
      "S-parameter\n",
      "S-parameter\n",
      "S-parameter\n",
      "S-parameter\n",
      "S-parameter\n",
      "S-parameter\n",
      "S-parameter\n",
      "S-parameter\n",
      "S-parameter\n",
      "S-parameter\n",
      "S-parameter\n",
      "S-parameter\n",
      "S-parameter\n",
      "S-parameter\n",
      "S-parameter\n",
      "S-parameter\n",
      "S-parameter\n",
      "S-parameter\n",
      "S-parameter\n",
      "S-parameter\n",
      "S-parameter\n",
      "S-parameter\n",
      "S-parameter\n",
      "S-parameter\n",
      "S-parameter\n",
      "S-parameter\n",
      "S-parameter\n",
      "S-parameter\n",
      "S-parameter\n",
      "S-parameter\n",
      "S-parameter\n",
      "S-parameter\n",
      "S-parameter\n",
      "S-parameter\n",
      "S-parameter\n",
      "S-parameter\n",
      "S-parameter\n",
      "S-parameter\n",
      "S-parameter\n",
      "S-parameter\n",
      "S-parameter\n",
      "S-parameter\n",
      "S-parameter\n",
      "S-parameter\n",
      "S-parameter\n",
      "S-parameter\n",
      "S-parameter\n",
      "S-parameter\n",
      "S-parameter\n",
      "S-parameter\n",
      "S-parameter\n",
      "S-parameter\n",
      "S-parameter\n",
      "S-parameter\n",
      "S-parameter\n",
      "S-parameter\n",
      "S-parameter\n",
      "S-parameter\n",
      "S-parameter\n",
      "S-parameter\n",
      "S-parameter\n",
      "S-parameter\n",
      "S-parameter\n",
      "S-parameter\n",
      "S-parameter\n",
      "S-parameter\n",
      "S-parameter\n",
      "S-parameter\n",
      "S-parameter\n",
      "S-parameter\n",
      "S-parameter\n",
      "S-parameter\n",
      "S-parameter\n",
      "S-parameter\n",
      "S-parameter\n",
      "S-parameter\n",
      "S-parameter\n",
      "S-parameter\n",
      "S-parameter\n",
      "S-parameter\n",
      "S-parameter\n",
      "S-parameter\n",
      "S-parameter\n",
      "S-parameter\n",
      "S-parameter\n",
      "S-parameter\n",
      "S-parameter\n",
      "S-parameter\n",
      "S-parameter\n",
      "S-parameter\n",
      "S-parameter\n",
      "S-parameter\n",
      "S-parameter\n",
      "S-parameter\n",
      "S-parameter\n",
      "S-parameter\n",
      "S-parameter\n",
      "S-parameter\n",
      "S-parameter\n",
      "S-parameter\n",
      "S-parameter\n",
      "S-parameter\n",
      "S-parameter\n",
      "S-parameter\n",
      "S-parameter\n",
      "S-parameter\n",
      "S-parameter\n",
      "S-parameter\n",
      "S-parameter\n",
      "S-parameter\n",
      "S-parameter\n",
      "S-parameter\n",
      "S-parameter\n",
      "S-parameter\n",
      "S-parameter\n",
      "S-parameter\n",
      "S-parameter\n",
      "S-parameter\n",
      "S-parameter\n",
      "S-parameter\n",
      "S-parameter\n",
      "S-parameter\n",
      "S-parameter\n",
      "S-parameter\n",
      "S-parameter\n",
      "S-parameter\n",
      "S-parameter\n",
      "S-parameter\n",
      "S-parameter\n",
      "S-parameter\n",
      "S-parameter\n",
      "S-parameter\n",
      "S-parameter\n",
      "S-parameter\n",
      "S-parameter\n",
      "S-parameter\n",
      "S-parameter\n",
      "S-parameter\n",
      "S-parameter\n",
      "S-parameter\n",
      "S-parameter\n",
      "S-parameter\n",
      "S-parameter\n",
      "S-parameter\n",
      "S-parameter\n",
      "S-parameter\n",
      "S-parameter\n",
      "S-parameter\n",
      "S-parameter\n",
      "S-parameter\n",
      "S-parameter\n",
      "S-parameter\n",
      "S-parameter\n",
      "S-parameter\n",
      "S-parameter\n",
      "S-parameter\n",
      "S-parameter\n",
      "S-parameter\n",
      "S-parameter\n",
      "S-parameter\n",
      "S-parameter\n",
      "S-parameter\n",
      "S-parameter\n",
      "S-parameter\n",
      "S-parameter\n",
      "S-parameter\n",
      "S-parameter\n",
      "S-parameter\n",
      "S-parameter\n",
      "S-parameter\n",
      "S-parameter\n",
      "S-parameter\n",
      "S-parameter\n",
      "S-parameter\n",
      "S-parameter\n",
      "S-parameter\n",
      "S-parameter\n",
      "S-parameter\n",
      "S-parameter\n",
      "S-parameter\n",
      "S-parameter\n",
      "S-parameter\n",
      "S-parameter\n",
      "S-parameter\n",
      "S-parameter\n",
      "S-parameter\n",
      "S-parameter\n",
      "S-parameter\n",
      "S-parameter\n",
      "S-parameter\n",
      "S-parameter\n",
      "S-parameter\n",
      "S-parameter\n",
      "S-parameter\n",
      "S-parameter\n",
      "S-parameter\n",
      "S-parameter\n",
      "S-parameter\n",
      "S-parameter\n",
      "S-parameter\n",
      "S-parameter\n",
      "S-parameter\n",
      "S-parameter\n",
      "S-parameter\n",
      "S-parameter\n",
      "S-parameter\n",
      "S-parameter\n",
      "S-parameter\n",
      "S-parameter\n",
      "S-parameter\n",
      "S-parameter\n",
      "S-parameter\n",
      "S-parameter\n",
      "S-parameter\n",
      "S-parameter\n",
      "S-parameter\n",
      "S-parameter\n",
      "S-parameter\n",
      "S-parameter\n",
      "S-parameter\n",
      "S-parameter\n",
      "S-parameter\n",
      "S-parameter\n",
      "S-parameter\n",
      "S-parameter\n",
      "S-parameter\n",
      "S-parameter\n",
      "S-parameter\n",
      "S-parameter\n",
      "S-parameter\n",
      "S-parameter\n",
      "S-parameter\n",
      "S-parameter\n",
      "S-parameter\n",
      "S-parameter\n",
      "S-parameter\n",
      "S-parameter\n",
      "S-parameter\n",
      "S-parameter\n",
      "S-parameter\n",
      "S-parameter\n",
      "S-parameter\n",
      "S-parameter\n",
      "S-parameter\n",
      "S-parameter\n",
      "S-parameter\n",
      "S-parameter\n",
      "S-parameter\n",
      "S-parameter\n",
      "S-parameter\n",
      "S-parameter\n",
      "S-parameter\n",
      "S-parameter\n",
      "S-parameter\n",
      "S-parameter\n",
      "S-parameter\n",
      "S-parameter\n",
      "S-parameter\n",
      "S-parameter\n",
      "S-parameter\n",
      "S-parameter\n",
      "S-parameter\n",
      "S-parameter\n",
      "S-parameter\n",
      "S-parameter\n",
      "S-parameter\n",
      "S-parameter\n",
      "S-parameter\n",
      "S-parameter\n",
      "S-parameter\n",
      "S-parameter\n",
      "S-parameter\n",
      "S-parameter\n",
      "S-parameter\n",
      "S-parameter\n",
      "S-parameter\n",
      "S-parameter\n",
      "S-parameter\n",
      "S-parameter\n",
      "S-parameter\n",
      "S-parameter\n",
      "S-parameter\n",
      "S-parameter\n",
      "S-parameter\n",
      "S-parameter\n",
      "S-parameter\n",
      "S-parameter\n",
      "S-parameter\n",
      "S-parameter\n",
      "S-parameter\n",
      "S-parameter\n",
      "S-parameter\n",
      "S-parameter\n",
      "S-parameter\n",
      "S-parameter\n",
      "S-parameter\n",
      "S-parameter\n",
      "S-parameter\n",
      "S-parameter\n",
      "S-parameter\n",
      "S-parameter\n",
      "S-parameter\n",
      "S-parameter\n",
      "S-parameter\n",
      "S-parameter\n",
      "S-parameter\n",
      "S-parameter\n",
      "S-parameter\n",
      "S-parameter\n",
      "S-parameter\n",
      "S-parameter\n",
      "S-parameter\n",
      "S-parameter\n",
      "S-parameter\n",
      "S-parameter\n",
      "S-parameter\n",
      "S-parameter\n",
      "S-parameter\n",
      "S-parameter\n",
      "S-parameter\n",
      "S-parameter\n",
      "S-parameter\n",
      "S-parameter\n",
      "S-parameter\n",
      "S-parameter\n",
      "S-parameter\n",
      "S-parameter\n",
      "S-parameter\n",
      "S-parameter\n",
      "S-parameter\n",
      "S-parameter\n",
      "S-parameter\n",
      "S-parameter\n",
      "S-parameter\n",
      "S-parameter\n",
      "S-parameter\n",
      "S-parameter\n",
      "S-parameter\n",
      "S-parameter\n",
      "S-parameter\n",
      "S-parameter\n",
      "S-parameter\n",
      "S-parameter\n",
      "S-parameter\n",
      "S-parameter\n",
      "S-parameter\n",
      "S-parameter\n",
      "S-parameter\n",
      "S-parameter\n",
      "S-parameter\n",
      "S-parameter\n",
      "S-parameter\n",
      "S-parameter\n",
      "S-parameter\n",
      "S-parameter\n",
      "S-parameter\n",
      "S-parameter\n",
      "S-parameter\n",
      "S-parameter\n",
      "S-parameter\n",
      "S-parameter\n",
      "S-parameter\n",
      "S-parameter\n",
      "S-parameter\n",
      "S-parameter\n",
      "S-parameter\n",
      "S-parameter\n",
      "S-parameter\n",
      "S-parameter\n",
      "S-parameter\n",
      "S-parameter\n",
      "S-parameter\n",
      "S-parameter\n",
      "S-parameter\n",
      "S-parameter\n",
      "S-parameter\n",
      "S-parameter\n",
      "S-parameter\n",
      "S-parameter\n",
      "S-parameter\n",
      "S-parameter\n",
      "S-parameter\n",
      "S-parameter\n",
      "S-parameter\n",
      "S-parameter\n",
      "S-parameter\n",
      "S-parameter\n",
      "S-parameter\n",
      "S-parameter\n",
      "S-parameter\n",
      "S-parameter\n",
      "S-parameter\n",
      "S-parameter\n",
      "S-parameter\n",
      "S-parameter\n",
      "S-parameter\n",
      "S-parameter\n",
      "S-parameter\n",
      "S-parameter\n",
      "S-parameter\n",
      "S-parameter\n",
      "S-parameter\n",
      "S-parameter\n",
      "S-parameter\n",
      "S-parameter\n",
      "S-parameter\n",
      "S-parameter\n",
      "S-parameter\n",
      "S-parameter\n",
      "S-parameter\n",
      "S-parameter\n",
      "S-parameter\n",
      "S-parameter\n",
      "S-parameter\n",
      "S-parameter\n",
      "S-parameter\n",
      "S-parameter\n",
      "S-parameter\n",
      "S-parameter\n",
      "S-parameter\n",
      "S-parameter\n",
      "S-parameter\n",
      "S-parameter\n",
      "S-parameter\n",
      "S-parameter\n",
      "S-parameter\n",
      "S-parameter\n",
      "S-parameter\n",
      "S-parameter\n",
      "S-parameter\n",
      "S-parameter\n",
      "S-parameter\n",
      "S-parameter\n",
      "S-parameter\n",
      "S-parameter\n",
      "S-parameter\n",
      "S-parameter\n",
      "S-parameter\n",
      "S-parameter\n",
      "S-parameter\n",
      "S-parameter\n",
      "S-parameter\n",
      "S-parameter\n",
      "S-parameter\n",
      "S-parameter\n",
      "S-parameter\n",
      "S-parameter\n",
      "S-parameter\n",
      "S-parameter\n",
      "S-parameter\n",
      "S-parameter\n",
      "S-parameter\n",
      "S-parameter\n",
      "S-parameter\n",
      "S-parameter\n",
      "S-parameter\n",
      "S-parameter\n",
      "S-parameter\n",
      "S-parameter\n",
      "S-parameter\n",
      "S-parameter\n",
      "S-parameter\n",
      "S-parameter\n",
      "S-parameter\n",
      "S-parameter\n",
      "S-parameter\n",
      "S-parameter\n",
      "S-parameter\n",
      "S-parameter\n",
      "S-parameter\n",
      "S-parameter\n",
      "S-parameter\n",
      "S-parameter\n",
      "S-parameter\n",
      "S-parameter\n",
      "S-parameter\n",
      "S-parameter\n",
      "S-parameter\n",
      "S-parameter\n",
      "S-parameter\n",
      "S-parameter\n",
      "S-parameter\n",
      "S-parameter\n",
      "S-parameter\n",
      "S-parameter\n",
      "S-parameter\n",
      "S-parameter\n",
      "S-parameter\n",
      "S-parameter\n",
      "S-parameter\n",
      "S-parameter\n",
      "S-parameter\n",
      "S-parameter\n",
      "S-parameter\n",
      "S-parameter\n",
      "S-parameter\n",
      "S-parameter\n",
      "S-parameter\n",
      "S-parameter\n",
      "S-parameter\n",
      "S-parameter\n",
      "S-parameter\n",
      "S-parameter\n",
      "S-parameter\n",
      "S-parameter\n",
      "S-parameter\n",
      "S-parameter\n",
      "S-parameter\n",
      "S-parameter\n",
      "S-parameter\n",
      "S-parameter\n",
      "S-parameter\n",
      "S-parameter\n",
      "S-parameter\n",
      "S-parameter\n",
      "S-parameter\n",
      "S-parameter\n",
      "S-parameter\n",
      "S-parameter\n",
      "S-parameter\n",
      "S-parameter\n",
      "S-parameter\n",
      "S-parameter\n",
      "S-parameter\n",
      "S-parameter\n",
      "S-parameter\n",
      "S-parameter\n",
      "S-parameter\n",
      "S-parameter\n",
      "S-parameter\n",
      "S-parameter\n",
      "S-parameter\n",
      "S-parameter\n",
      "S-parameter\n",
      "S-parameter\n",
      "S-parameter\n",
      "S-parameter\n",
      "S-parameter\n",
      "S-parameter\n",
      "S-parameter\n",
      "S-parameter\n",
      "S-parameter\n",
      "S-parameter\n",
      "S-parameter\n",
      "S-parameter\n",
      "S-parameter\n",
      "S-parameter\n",
      "S-parameter\n",
      "S-parameter\n",
      "S-parameter\n",
      "S-parameter\n",
      "S-parameter\n",
      "S-parameter\n",
      "S-parameter\n",
      "S-parameter\n",
      "S-parameter\n",
      "S-parameter\n",
      "S-parameter\n",
      "S-parameter\n",
      "S-parameter\n",
      "S-parameter\n",
      "S-parameter\n",
      "S-parameter\n",
      "S-parameter\n",
      "S-parameter\n",
      "S-parameter\n",
      "S-parameter\n",
      "S-parameter\n",
      "S-parameter\n",
      "S-parameter\n",
      "S-parameter\n",
      "S-parameter\n",
      "S-parameter\n",
      "S-parameter\n",
      "S-parameter\n",
      "S-parameter\n",
      "S-parameter\n",
      "S-parameter\n",
      "S-parameter\n",
      "S-parameter\n",
      "S-parameter\n",
      "S-parameter\n",
      "S-parameter\n",
      "S-parameter\n",
      "S-parameter\n",
      "S-parameter\n",
      "S-parameter\n",
      "S-parameter\n",
      "S-parameter\n",
      "S-parameter\n",
      "S-parameter\n",
      "S-parameter\n",
      "S-parameter\n",
      "S-parameter\n",
      "S-parameter\n",
      "S-parameter\n",
      "S-parameter\n",
      "S-parameter\n",
      "S-parameter\n",
      "S-parameter\n",
      "S-parameter\n",
      "S-parameter\n",
      "S-parameter\n",
      "S-parameter\n",
      "S-parameter\n",
      "S-parameter\n",
      "S-parameter\n",
      "S-parameter\n",
      "S-parameter\n",
      "S-parameter\n",
      "S-parameter\n",
      "S-parameter\n",
      "S-parameter\n",
      "S-parameter\n",
      "S-parameter\n",
      "S-parameter\n",
      "S-parameter\n",
      "S-parameter\n",
      "S-parameter\n",
      "S-parameter\n",
      "S-parameter\n",
      "S-parameter\n",
      "S-parameter\n",
      "S-parameter\n",
      "S-parameter\n",
      "S-parameter\n",
      "S-parameter\n",
      "S-parameter\n",
      "S-parameter\n",
      "S-parameter\n",
      "S-parameter\n",
      "S-parameter\n",
      "S-parameter\n",
      "S-parameter\n",
      "S-parameter\n",
      "S-parameter\n",
      "S-parameter\n",
      "S-parameter\n",
      "S-parameter\n",
      "S-parameter\n",
      "S-parameter\n",
      "S-parameter\n",
      "S-parameter\n",
      "S-parameter\n",
      "S-parameter\n",
      "S-parameter\n",
      "S-parameter\n",
      "S-parameter\n",
      "S-parameter\n",
      "S-parameter\n",
      "S-parameter\n",
      "S-parameter\n",
      "S-parameter\n",
      "S-parameter\n",
      "S-parameter\n",
      "S-parameter\n",
      "S-parameter\n",
      "S-parameter\n",
      "S-parameter\n",
      "S-parameter\n",
      "S-parameter\n",
      "S-parameter\n",
      "S-parameter\n",
      "S-parameter\n",
      "S-parameter\n",
      "S-parameter\n",
      "S-parameter\n",
      "S-parameter\n",
      "S-parameter\n",
      "S-parameter\n",
      "S-parameter\n",
      "S-parameter\n",
      "S-parameter\n",
      "S-parameter\n",
      "S-parameter\n",
      "S-parameter\n",
      "S-parameter\n",
      "S-parameter\n",
      "S-parameter\n",
      "S-parameter\n",
      "S-parameter\n",
      "S-parameter\n",
      "S-parameter\n",
      "S-parameter\n",
      "S-parameter\n",
      "S-parameter\n",
      "S-parameter\n",
      "S-parameter\n",
      "S-parameter\n",
      "S-parameter\n",
      "S-parameter\n",
      "S-parameter\n",
      "S-parameter\n",
      "S-parameter\n",
      "S-parameter\n",
      "S-parameter\n",
      "S-parameter\n",
      "S-parameter\n",
      "S-parameter\n",
      "S-parameter\n",
      "S-parameter\n",
      "S-parameter\n",
      "S-parameter\n",
      "S-parameter\n",
      "S-parameter\n",
      "S-parameter\n",
      "S-parameter\n",
      "S-parameter\n",
      "S-parameter\n",
      "S-parameter\n",
      "S-parameter\n",
      "S-parameter\n",
      "S-parameter\n",
      "S-parameter\n",
      "S-parameter\n",
      "S-parameter\n",
      "S-parameter\n",
      "S-parameter\n",
      "S-parameter\n",
      "S-parameter\n",
      "S-parameter\n",
      "S-parameter\n",
      "S-parameter\n",
      "S-parameter\n",
      "S-parameter\n",
      "S-parameter\n",
      "S-parameter\n",
      "S-parameter\n",
      "S-parameter\n",
      "S-parameter\n",
      "S-parameter\n",
      "S-parameter\n",
      "S-parameter\n",
      "S-parameter\n",
      "S-parameter\n",
      "S-parameter\n",
      "S-parameter\n",
      "S-parameter\n",
      "S-parameter\n",
      "S-parameter\n",
      "S-parameter\n",
      "S-parameter\n",
      "S-parameter\n",
      "S-parameter\n",
      "S-parameter\n",
      "S-parameter\n",
      "S-parameter\n",
      "S-parameter\n",
      "S-parameter\n",
      "S-parameter\n",
      "S-parameter\n",
      "S-parameter\n",
      "S-parameter\n",
      "S-parameter\n",
      "S-parameter\n",
      "S-parameter\n",
      "S-parameter\n",
      "S-parameter\n",
      "S-parameter\n",
      "S-parameter\n",
      "S-parameter\n",
      "S-parameter\n",
      "S-parameter\n",
      "S-parameter\n",
      "S-parameter\n",
      "S-parameter\n",
      "S-parameter\n",
      "S-parameter\n",
      "S-parameter\n",
      "S-parameter\n",
      "S-parameter\n",
      "S-parameter\n",
      "S-parameter\n",
      "S-parameter\n",
      "S-parameter\n",
      "S-parameter\n",
      "S-parameter\n",
      "S-parameter\n",
      "S-parameter\n",
      "S-parameter\n",
      "S-parameter\n",
      "S-parameter\n",
      "S-parameter\n",
      "S-parameter\n",
      "S-parameter\n",
      "S-parameter\n",
      "S-parameter\n",
      "S-parameter\n",
      "S-parameter\n",
      "S-parameter\n",
      "S-parameter\n",
      "S-parameter\n",
      "S-parameter\n",
      "S-parameter\n",
      "S-parameter\n",
      "S-parameter\n",
      "S-parameter\n",
      "S-parameter\n",
      "S-parameter\n",
      "S-parameter\n",
      "S-parameter\n",
      "S-parameter\n",
      "S-parameter\n",
      "S-parameter\n",
      "S-parameter\n",
      "S-parameter\n",
      "S-parameter\n",
      "S-parameter\n",
      "S-parameter\n",
      "S-parameter\n",
      "S-parameter\n",
      "S-parameter\n",
      "S-parameter\n",
      "S-parameter\n",
      "S-parameter\n",
      "S-parameter\n",
      "S-parameter\n",
      "S-parameter\n",
      "S-parameter\n",
      "S-parameter\n",
      "S-parameter\n",
      "S-parameter\n",
      "S-parameter\n",
      "S-parameter\n",
      "S-parameter\n",
      "S-parameter\n",
      "S-parameter\n",
      "S-parameter\n",
      "S-parameter\n",
      "S-parameter\n",
      "S-parameter\n",
      "S-parameter\n",
      "S-parameter\n",
      "S-parameter\n",
      "S-parameter\n",
      "S-parameter\n",
      "S-parameter\n",
      "S-parameter\n",
      "S-parameter\n",
      "S-parameter\n",
      "S-parameter\n",
      "S-parameter\n",
      "S-parameter\n",
      "S-parameter\n",
      "S-parameter\n",
      "S-parameter\n",
      "S-parameter\n",
      "S-parameter\n",
      "S-parameter\n",
      "S-parameter\n",
      "S-parameter\n",
      "S-parameter\n",
      "S-parameter\n",
      "S-parameter\n",
      "S-parameter\n",
      "S-parameter\n",
      "S-parameter\n",
      "S-parameter\n",
      "S-parameter\n",
      "S-parameter\n",
      "S-parameter\n",
      "S-parameter\n",
      "S-parameter\n",
      "S-parameter\n",
      "S-parameter\n",
      "S-parameter\n",
      "S-parameter\n",
      "S-parameter\n",
      "S-parameter\n",
      "S-parameter\n",
      "S-parameter\n",
      "S-parameter\n",
      "S-parameter\n",
      "S-parameter\n",
      "S-parameter\n",
      "S-parameter\n",
      "S-parameter\n",
      "S-parameter\n",
      "S-parameter\n",
      "S-parameter\n",
      "S-parameter\n",
      "S-parameter\n",
      "S-parameter\n",
      "S-parameter\n",
      "S-parameter\n",
      "S-parameter\n",
      "S-parameter\n",
      "S-parameter\n",
      "S-parameter\n",
      "S-parameter\n",
      "S-parameter\n",
      "S-parameter\n",
      "S-parameter\n",
      "S-parameter\n",
      "S-parameter\n",
      "S-parameter\n",
      "S-parameter\n",
      "S-parameter\n",
      "S-parameter\n",
      "S-parameter\n",
      "S-parameter\n",
      "S-parameter\n",
      "S-parameter\n",
      "S-parameter\n",
      "S-parameter\n",
      "S-parameter\n",
      "S-parameter\n",
      "S-parameter\n",
      "S-parameter\n",
      "S-parameter\n",
      "S-parameter\n",
      "S-parameter\n",
      "S-parameter\n",
      "S-parameter\n",
      "S-parameter\n",
      "S-parameter\n",
      "S-parameter\n",
      "S-parameter\n",
      "S-parameter\n",
      "S-parameter\n",
      "S-parameter\n",
      "S-parameter\n",
      "S-parameter\n",
      "S-parameter\n",
      "S-parameter\n",
      "S-parameter\n",
      "S-parameter\n",
      "S-parameter\n",
      "S-parameter\n",
      "S-parameter\n",
      "S-parameter\n",
      "S-parameter\n",
      "S-parameter\n",
      "S-parameter\n",
      "S-parameter\n",
      "S-parameter\n",
      "S-parameter\n",
      "S-parameter\n",
      "S-parameter\n",
      "S-parameter\n",
      "S-parameter\n",
      "S-parameter\n",
      "S-parameter\n",
      "S-parameter\n",
      "S-parameter\n",
      "S-parameter\n",
      "S-parameter\n",
      "S-parameter\n",
      "S-parameter\n",
      "S-parameter\n",
      "S-parameter\n",
      "S-parameter\n",
      "S-parameter\n"
     ]
    },
    {
     "name": "stdout",
     "output_type": "stream",
     "text": [
      "S-parameter\n",
      "S-parameter\n",
      "S-parameter\n",
      "S-parameter\n",
      "S-parameter\n",
      "S-parameter\n",
      "S-parameter\n",
      "S-parameter\n",
      "S-parameter\n",
      "S-parameter\n",
      "load time:  0.05096912384033203\n",
      "pre_trace_time:  0.0019979476928710938\n",
      "trace 0 time:  0.030980348587036133\n",
      "trace 1 time:  0.06396055221557617\n",
      "trace 2 time:  0.09494209289550781\n",
      "trace 3 time:  0.12992072105407715\n"
     ]
    }
   ],
   "source": [
    "detuning = 1e6\n",
    "pna.set_sweep_mode('cw')\n",
    "pna.set_nop(1)\n",
    "pna.set_bandwidth(100)\n",
    "\n",
    "pump.set_status(1)\n",
    "bias.set_status(1)\n",
    "\n",
    "powers = arange(-70,1,1)\n",
    "point_ind = range(len(tt.I))\n",
    "ref_p = -50\n",
    "ref_bw = 100\n",
    "min_bw= 1\n",
    "\n",
    "def set_power(p):\n",
    "    if p == powers[-1]:\n",
    "        pna.set_power(-30)\n",
    "        pna.set_bandwidth( 100 )\n",
    "        pump.set_status(0)\n",
    "        time.sleep(0.05)\n",
    "    else:    \n",
    "        pna.set_power(p)\n",
    "        bw = 10**((p - ref_p)/10)*ref_bw \n",
    "        if bw<min_bw:\n",
    "            bw = min_bw\n",
    "        pna.set_bandwidth( bw ) \n",
    "        time.sleep(0.1)\n",
    "\n",
    "def set_op(i):\n",
    "    op = tt.ind(i)\n",
    "    bias.set_current(op.I)\n",
    "    pna.set_frequency(op.Fp/2.+detuning)\n",
    "    pump.set_frequency(op.Fp)\n",
    "    pump.set_power(op.Pp)\n",
    "    pump.set_status(1)\n",
    "    time.sleep(0.05)\n",
    "    \n",
    "result = sweeper.sweep(pna, (point_ind, set_op, 'Operating point'), (powers, set_power, 'Power'), \n",
    "                       measurement_type = \"gain_compression\",\n",
    "                      metadata = tt.to_dict() )"
   ]
  },
  {
   "cell_type": "code",
   "execution_count": null,
   "metadata": {
    "ExecuteTime": {
     "end_time": "2019-10-15T17:29:40.569831Z",
     "start_time": "2019-10-15T17:25:26.871186Z"
    }
   },
   "outputs": [],
   "source": [
    "op = tt.ind(4)\n",
    "tuner.set_op(op)\n",
    "\n",
    "pna.set_sweep_mode('lin')\n",
    "pna.set_centerfreq( op.Fp/2 )\n",
    "pna.set_nop(600)\n",
    "pna.set_bandwidth(1000)\n",
    "\n",
    "pump.set_status(1)\n",
    "powers = arange(-70,-5,1)\n",
    "ref_p = -50\n",
    "ref_bw = 1000\n",
    "min_bw= 1\n",
    "\n",
    "def set_power(p):\n",
    "    pna.set_power(p)\n",
    "    bw = 10**((p - ref_p)/10)*ref_bw \n",
    "    if bw<min_bw:\n",
    "        bw = min_bw\n",
    "    pna.set_bandwidth( bw ) \n",
    "    time.sleep(0.1)\n",
    "result = sweeper.sweep(pna, (powers, set_power, 'Power'), measurement_type = \"gain_compression\",\n",
    "                      metadata = {'G':op.G,'Fp':op.Fp, 'Pp':op.Pp,'I':op.I} )"
   ]
  },
  {
   "cell_type": "markdown",
   "metadata": {},
   "source": [
    "# Resonator mapping"
   ]
  },
  {
   "cell_type": "code",
   "execution_count": 353,
   "metadata": {
    "ExecuteTime": {
     "end_time": "2019-10-21T01:39:13.048558Z",
     "start_time": "2019-10-21T01:04:37.315662Z"
    }
   },
   "outputs": [
    {
     "name": "stdout",
     "output_type": "stream",
     "text": [
      "S-parameter\n",
      "S-parameter\n",
      "S-parameter\n",
      "S-parameter\n",
      "S-parameter\n",
      "S-parameter\n",
      "S-parameter\n",
      "S-parameter\n",
      "S-parameter\n",
      "S-parameter\n",
      "S-parameter\n",
      "S-parameter\n",
      "S-parameter\n",
      "S-parameter\n",
      "S-parameter\n",
      "S-parameter\n",
      "S-parameter\n",
      "S-parameter\n",
      "S-parameter\n",
      "S-parameter\n",
      "S-parameter\n",
      "S-parameter\n",
      "S-parameter\n",
      "S-parameter\n",
      "S-parameter\n",
      "S-parameter\n",
      "S-parameter\n",
      "S-parameter\n",
      "S-parameter\n",
      "S-parameter\n",
      "S-parameter\n",
      "S-parameter\n",
      "S-parameter\n",
      "S-parameter\n",
      "S-parameter\n",
      "S-parameter\n",
      "S-parameter\n",
      "S-parameter\n",
      "S-parameter\n",
      "S-parameter\n",
      "S-parameter\n",
      "S-parameter\n",
      "S-parameter\n",
      "S-parameter\n",
      "S-parameter\n",
      "S-parameter\n",
      "S-parameter\n",
      "S-parameter\n",
      "S-parameter\n",
      "S-parameter\n",
      "S-parameter\n",
      "S-parameter\n",
      "S-parameter\n",
      "S-parameter\n",
      "S-parameter\n",
      "S-parameter\n",
      "S-parameter\n",
      "S-parameter\n",
      "S-parameter\n",
      "S-parameter\n",
      "S-parameter\n",
      "S-parameter\n",
      "S-parameter\n",
      "S-parameter\n",
      "S-parameter\n",
      "S-parameter\n",
      "S-parameter\n",
      "S-parameter\n",
      "S-parameter\n",
      "S-parameter\n",
      "S-parameter\n",
      "S-parameter\n",
      "S-parameter\n",
      "S-parameter\n",
      "S-parameter\n",
      "S-parameter\n",
      "S-parameter\n",
      "S-parameter\n",
      "S-parameter\n",
      "S-parameter\n",
      "S-parameter\n",
      "S-parameter\n",
      "S-parameter\n",
      "S-parameter\n",
      "S-parameter\n",
      "S-parameter\n",
      "S-parameter\n",
      "S-parameter\n",
      "S-parameter\n",
      "S-parameter\n",
      "S-parameter\n",
      "S-parameter\n",
      "S-parameter\n",
      "S-parameter\n",
      "S-parameter\n",
      "S-parameter\n",
      "S-parameter\n",
      "S-parameter\n",
      "S-parameter\n",
      "S-parameter\n",
      "S-parameter\n",
      "S-parameter\n",
      "S-parameter\n",
      "S-parameter\n",
      "S-parameter\n",
      "S-parameter\n",
      "S-parameter\n",
      "S-parameter\n",
      "S-parameter\n",
      "S-parameter\n",
      "S-parameter\n",
      "S-parameter\n",
      "S-parameter\n",
      "S-parameter\n",
      "S-parameter\n",
      "S-parameter\n",
      "S-parameter\n",
      "S-parameter\n",
      "S-parameter\n",
      "S-parameter\n",
      "S-parameter\n",
      "S-parameter\n",
      "S-parameter\n",
      "S-parameter\n",
      "S-parameter\n",
      "S-parameter\n",
      "S-parameter\n",
      "S-parameter\n",
      "S-parameter\n",
      "S-parameter\n",
      "S-parameter\n",
      "S-parameter\n",
      "S-parameter\n",
      "S-parameter\n",
      "S-parameter\n",
      "S-parameter\n",
      "S-parameter\n",
      "S-parameter\n",
      "S-parameter\n",
      "S-parameter\n",
      "S-parameter\n",
      "S-parameter\n",
      "S-parameter\n",
      "S-parameter\n",
      "S-parameter\n",
      "S-parameter\n",
      "S-parameter\n",
      "S-parameter\n",
      "S-parameter\n",
      "S-parameter\n",
      "S-parameter\n",
      "S-parameter\n",
      "S-parameter\n",
      "S-parameter\n",
      "S-parameter\n",
      "S-parameter\n",
      "S-parameter\n",
      "S-parameter\n",
      "S-parameter\n",
      "S-parameter\n",
      "S-parameter\n",
      "S-parameter\n",
      "S-parameter\n",
      "S-parameter\n",
      "S-parameter\n",
      "S-parameter\n",
      "S-parameter\n",
      "S-parameter\n",
      "S-parameter\n",
      "S-parameter\n",
      "S-parameter\n",
      "S-parameter\n",
      "S-parameter\n",
      "S-parameter\n",
      "S-parameter\n",
      "S-parameter\n",
      "S-parameter\n",
      "S-parameter\n",
      "S-parameter\n",
      "S-parameter\n",
      "S-parameter\n",
      "S-parameter\n",
      "S-parameter\n",
      "S-parameter\n",
      "S-parameter\n",
      "S-parameter\n",
      "S-parameter\n",
      "S-parameter\n",
      "S-parameter\n",
      "S-parameter\n",
      "S-parameter\n",
      "S-parameter\n",
      "S-parameter\n",
      "S-parameter\n",
      "S-parameter\n",
      "S-parameter\n",
      "S-parameter\n",
      "S-parameter\n",
      "S-parameter\n",
      "S-parameter\n",
      "S-parameter\n",
      "S-parameter\n",
      "S-parameter\n",
      "S-parameter\n",
      "S-parameter\n",
      "S-parameter\n",
      "S-parameter\n",
      "S-parameter\n",
      "S-parameter\n",
      "S-parameter\n",
      "S-parameter\n",
      "S-parameter\n",
      "S-parameter\n",
      "S-parameter\n",
      "S-parameter\n",
      "S-parameter\n",
      "S-parameter\n",
      "S-parameter\n",
      "S-parameter\n",
      "S-parameter\n",
      "S-parameter\n",
      "S-parameter\n",
      "S-parameter\n",
      "S-parameter\n",
      "S-parameter\n",
      "S-parameter\n",
      "S-parameter\n",
      "S-parameter\n",
      "S-parameter\n",
      "S-parameter\n",
      "S-parameter\n",
      "S-parameter\n",
      "S-parameter\n",
      "S-parameter\n",
      "S-parameter\n",
      "S-parameter\n",
      "S-parameter\n",
      "S-parameter\n",
      "S-parameter\n",
      "S-parameter\n",
      "S-parameter\n",
      "S-parameter\n",
      "S-parameter\n",
      "S-parameter\n",
      "S-parameter\n",
      "S-parameter\n",
      "S-parameter\n",
      "S-parameter\n",
      "S-parameter\n",
      "S-parameter\n",
      "S-parameter\n",
      "S-parameter\n",
      "S-parameter\n",
      "S-parameter\n",
      "S-parameter\n",
      "S-parameter\n",
      "S-parameter\n",
      "S-parameter\n",
      "S-parameter\n",
      "S-parameter\n",
      "S-parameter\n",
      "S-parameter\n",
      "S-parameter\n",
      "S-parameter\n",
      "S-parameter\n",
      "S-parameter\n",
      "S-parameter\n",
      "S-parameter\n",
      "S-parameter\n",
      "S-parameter\n",
      "S-parameter\n",
      "S-parameter\n",
      "S-parameter\n",
      "S-parameter\n",
      "S-parameter\n",
      "S-parameter\n",
      "S-parameter\n",
      "S-parameter\n",
      "S-parameter\n",
      "S-parameter\n",
      "S-parameter\n",
      "load time:  0.03997492790222168\n",
      "pre_trace_time:  0.0009996891021728516\n",
      "trace 0 time:  0.024982929229736328\n",
      "trace 1 time:  0.04896974563598633\n",
      "trace 2 time:  0.07795143127441406\n",
      "trace 3 time:  0.1089322566986084\n"
     ]
    }
   ],
   "source": [
    "currents = arange(-7,7.05,0.05)*1e-3\n",
    "result = sweeper.sweep(pna, (currents, bias.set_current, 'Current'), measurement_type = \"resonator_mapping\")"
   ]
  },
  {
   "cell_type": "markdown",
   "metadata": {},
   "source": [
    "# Tuning"
   ]
  },
  {
   "cell_type": "code",
   "execution_count": 6,
   "metadata": {
    "ExecuteTime": {
     "end_time": "2019-10-21T16:33:08.418273Z",
     "start_time": "2019-10-21T16:33:08.411277Z"
    }
   },
   "outputs": [
    {
     "data": {
      "text/plain": [
       "<module 'anti_qsweepy.routines.jpa_tuning' from 'C:\\\\simple_lab_scripts\\\\anti_qsweepy\\\\routines\\\\jpa_tuning.py'>"
      ]
     },
     "execution_count": 6,
     "metadata": {},
     "output_type": "execute_result"
    }
   ],
   "source": [
    "imp.reload(jpa_tuning)"
   ]
  },
  {
   "cell_type": "code",
   "execution_count": 7,
   "metadata": {
    "ExecuteTime": {
     "end_time": "2019-10-21T16:33:09.608725Z",
     "start_time": "2019-10-21T16:33:09.604725Z"
    }
   },
   "outputs": [],
   "source": [
    "tuner = jpa_tuning.JpaTuner(vna = pna, pump = pump, bias = bias)"
   ]
  },
  {
   "cell_type": "code",
   "execution_count": 32,
   "metadata": {
    "ExecuteTime": {
     "end_time": "2019-10-21T16:33:10.518764Z",
     "start_time": "2019-10-21T16:33:10.514767Z"
    }
   },
   "outputs": [],
   "source": [
    "tuner.I0 = 2e-3\n",
    "tuner.I05 = 3.4e-3\n",
    "tuner.dIraw = 0.1e-3\n",
    "tuner.dIfine = 0.001e-3\n",
    "tuner.Pp_init = -17\n",
    "tuner.dPp_raw = 0.5\n",
    "tuner.Ps = -30.\n",
    "tuner.Pp_max = 18.\n",
    "tuner.Gthr = 10.\n",
    "tuner.df = 2e6"
   ]
  },
  {
   "cell_type": "code",
   "execution_count": 41,
   "metadata": {},
   "outputs": [],
   "source": [
    "tuner.I0 = 2.75e-3\n",
    "tuner.I05 = 4.08e-3\n",
    "tuner.dIraw = 0.1e-3\n",
    "tuner.dIfine = 0.001e-3\n",
    "tuner.Pp_init = -17\n",
    "tuner.dPp_raw = 0.5\n",
    "tuner.Ps = -30.\n",
    "tuner.Pp_max = 18.\n",
    "tuner.Gthr = 10.\n",
    "tuner.df = 2e6"
   ]
  },
  {
   "cell_type": "code",
   "execution_count": 34,
   "metadata": {
    "ExecuteTime": {
     "end_time": "2019-10-21T15:45:50.385406Z",
     "start_time": "2019-10-21T15:42:06.545160Z"
    }
   },
   "outputs": [
    {
     "name": "stdout",
     "output_type": "stream",
     "text": [
      "Refrence measurement...\n",
      "S21_ref = -49.36 dB\n",
      "Raw search...\n",
      "Raw search: P = -17.00 dBm I= 2.8000e-03A G = 20.87 dB\n",
      "Noise measurement...\n",
      "G = 9.28 Sigma= 6.550815e-02\n",
      "Raw search: P = -17.00 dBm I= 2.8000e-03A G = 19.39 dB\n",
      "Noise measurement...\n",
      "G = 9.29 Sigma= 6.225710e-02\n",
      "Max search: I= 2.8010e-03A G = 19.10 dB Gmax = 19.36 dB\n",
      "Power optimization:P = -16.94 dBm G = 19.79 Gmax = 19.79\n",
      "Itune I = 2.8040e-03A P = -16.94dBm G = 19.10dB\n",
      "Itune I = 2.7660e-03A P = -17.12dBm G = 19.71dB\n"
     ]
    }
   ],
   "source": [
    "op, status = tuner.find_gain_sm(20, 6e9)"
   ]
  },
  {
   "cell_type": "code",
   "execution_count": 391,
   "metadata": {
    "ExecuteTime": {
     "end_time": "2019-10-21T15:21:14.712126Z",
     "start_time": "2019-10-21T15:21:14.708129Z"
    }
   },
   "outputs": [],
   "source": [
    "tt.add_point(op)"
   ]
  },
  {
   "cell_type": "code",
   "execution_count": 392,
   "metadata": {
    "ExecuteTime": {
     "end_time": "2019-10-21T15:21:17.033496Z",
     "start_time": "2019-10-21T15:21:17.027502Z"
    }
   },
   "outputs": [],
   "source": [
    "tt.dump(savepath+\"\\\\20db.txt\") "
   ]
  },
  {
   "cell_type": "code",
   "execution_count": 45,
   "metadata": {
    "ExecuteTime": {
     "end_time": "2019-10-21T20:05:47.463537Z",
     "start_time": "2019-10-21T16:33:19.507307Z"
    }
   },
   "outputs": [
    {
     "name": "stdout",
     "output_type": "stream",
     "text": [
      "7.500000000000001\n",
      "Refrence measurement...\n",
      "S21_ref = -68.79 dB\n",
      "Raw search...\n",
      "Raw search: P = 1.50 dBm I= 3.2500e-03A G = 10.25 dBBB\n",
      "Noise measurement...\n",
      "G = 3.10 Sigma= 1.894229e-01\n",
      "Max search: I= 3.2770e-03A G = 8.15 dB Gmax = 10.42 dBB\n",
      "Power optimization:P = 4.89 dBm G = 16.36 Gmax = 18.43\n",
      "Itune I = 3.2940e-03A P = 4.69dBm G = 16.79dB\n",
      "Itune I = 3.2400e-03A P = 4.69dBm G = 17.11dB\n",
      "Power optimization:P = 4.82 dBm G = 19.39 Gmax = 19.39\n",
      "Itune I = 3.2960e-03A P = 4.82dBm G = 17.91dB\n",
      "Itune I = 3.2590e-03A P = 4.82dBm G = 17.84dB\n",
      "7.550000000000001\n",
      "Refrence measurement...\n",
      "S21_ref = -69.24 dB\n",
      "Raw search...\n",
      "Raw search: P = 0.50 dBm I= 3.4500e-03A G = 12.78 dBBB\n",
      "Noise measurement...\n",
      "G = 4.38 Sigma= 2.008164e-01\n",
      "Max search: I= 3.4820e-03A G = 11.76 dB Gmax = 13.57 dB\n",
      "Power optimization:P = 0.62 dBm G = 9.97 Gmax = 13.577\n",
      "7.6000000000000005\n",
      "Refrence measurement...\n",
      "S21_ref = -69.31 dB\n",
      "Raw search...\n",
      "Raw search: P = 1.50 dBm I= 3.4500e-03A G = 11.34 dBBB\n",
      "Noise measurement...\n",
      "G = 3.46 Sigma= 1.980215e-01\n",
      "Max search: I= 3.4640e-03A G = 8.50 dB Gmax = 10.77 dBB\n",
      "Power optimization:P = 2.08 dBm G = 11.25 Gmax = 14.60\n",
      "Itune I = 3.4890e-03A P = 1.86dBm G = 10.84dB\n",
      "Itune I = 3.4120e-03A P = 1.86dBm G = 11.61dB\n",
      "Power optimization:P = 2.02 dBm G = 11.30 Gmax = 14.96\n",
      "7.65\n",
      "Refrence measurement...\n",
      "S21_ref = -69.22 dB\n",
      "Raw search...\n",
      "Raw search: P = 6.50 dBm I= 3.2500e-03A G = 10.04 dBBB\n",
      "Noise measurement...\n",
      "G = 2.83 Sigma= 1.912760e-01\n",
      "Max search: I= 3.2620e-03A G = 5.63 dB Gmax = 9.03 dB\n",
      "Power optimization:P = 11.00 dBm G = 8.55 Gmax = 12.722\n",
      "Itune I = 3.2800e-03A P = 9.87dBm G = 7.93dBB\n",
      "Itune I = 3.0620e-03A P = 9.87dBm G = 13.93dB\n",
      "Power optimization:P = 11.73 dBm G = 19.40 Gmax = 19.40\n",
      "Itune I = 3.1510e-03A P = 11.73dBm G = 17.55dB\n",
      "Itune I = 3.0700e-03A P = 10.82dBm G = 19.15dB\n",
      "7.7\n",
      "Refrence measurement...\n",
      "S21_ref = -69.74 dB\n",
      "Raw search...\n",
      "Raw search: P = 6.00 dBm I= 3.4500e-03A G = 11.29 dBBB\n",
      "Noise measurement...\n",
      "G = 3.58 Sigma= 2.022668e-01\n",
      "Max search: I= 3.4660e-03A G = 8.92 dB Gmax = 11.26 dBB\n",
      "Power optimization:P = 6.59 dBm G = 19.35 Gmax = 19.35\n",
      "Itune I = 3.4600e-03A P = 6.59dBm G = 17.72dB\n",
      "Itune I = 3.4300e-03A P = 6.59dBm G = 17.56dB\n",
      "7.750000000000001\n",
      "Refrence measurement...\n",
      "S21_ref = -69.90 dB\n",
      "Raw search...\n",
      "Raw search: P = 5.50 dBm I= 2.9500e-03A G = 10.33 dBBB\n",
      "Noise measurement...\n",
      "G = 3.01 Sigma= 2.072756e-01\n",
      "Max search: I= 3.0550e-03A G = 8.03 dB Gmax = 10.57 dBB\n",
      "Power optimization:P = 10.02 dBm G = 19.35 Gmax = 19.35\n",
      "Itune I = 3.1510e-03A P = 8.34dBm G = 18.82dBB\n",
      "Itune I = 3.1010e-03A P = 8.34dBm G = 18.99dB\n",
      "7.800000000000001\n",
      "Refrence measurement...\n",
      "S21_ref = -69.75 dB\n",
      "Raw search...\n",
      "Raw search: P = 4.00 dBm I= 3.0500e-03A G = 10.27 dBBB\n",
      "Noise measurement...\n",
      "G = 3.04 Sigma= 1.901976e-01\n",
      "Max search: I= 3.0680e-03A G = 7.36 dB Gmax = 9.84 dB\n",
      "Power optimization:P = 9.79 dBm G = 19.33 Gmax = 19.33\n",
      "Itune I = 3.1350e-03A P = 9.27dBm G = 18.98dB\n",
      "Itune I = 3.0880e-03A P = 9.27dBm G = 18.72dB\n",
      "7.8500000000000005\n",
      "Refrence measurement...\n",
      "S21_ref = -69.50 dB\n",
      "Raw search...\n",
      "Raw search: P = 0.00 dBm I= 3.1500e-03A G = 12.82 dBBB\n",
      "Noise measurement...\n",
      "G = 3.31 Sigma= 1.904756e-01\n",
      "Max search: I= 3.1530e-03A G = 7.38 dB Gmax = 10.40 dB\n",
      "Power optimization:P = 0.52 dBm G = 11.34 Gmax = 14.43\n",
      "Itune I = 3.1540e-03A P = 0.28dBm G = 10.37dB\n",
      "Itune I = 3.1470e-03A P = 0.28dBm G = 11.32dB\n",
      "Power optimization:P = 0.55 dBm G = 11.32 Gmax = 14.47\n",
      "7.9\n",
      "Refrence measurement...\n",
      "S21_ref = -69.62 dB\n",
      "Raw search...\n",
      "Raw search: P = -1.00 dBm I= 3.0500e-03A G = 10.09 dBB\n",
      "Noise measurement...\n",
      "G = 3.04 Sigma= 1.866414e-01\n",
      "Max search: I= 3.0660e-03A G = 6.86 dB Gmax = 9.65 dB\n",
      "Power optimization:P = 4.53 dBm G = 19.33 Gmax = 19.331\n",
      "Itune I = 3.1220e-03A P = 3.95dBm G = 19.25dB\n",
      "Itune I = 3.0780e-03A P = 3.94dBm G = 18.86dB\n",
      "7.95\n",
      "Refrence measurement...\n",
      "S21_ref = -69.91 dB\n",
      "Raw search...\n",
      "Raw search: P = 7.50 dBm I= 2.9500e-03A G = 11.35 dBBB\n",
      "Noise measurement...\n",
      "G = 4.07 Sigma= 2.069930e-01\n",
      "Max search: I= 2.9920e-03A G = 16.59 dB Gmax = 17.64 dB\n",
      "Power optimization:P = 10.29 dBm G = 19.29 Gmax = 19.29\n",
      "Itune I = 3.0190e-03A P = 10.29dBm G = 17.33dB\n",
      "Itune I = 2.9430e-03A P = 9.36dBm G = 18.72dBB\n"
     ]
    }
   ],
   "source": [
    "target_gains = [20,]\n",
    "for target_gain in target_gains:\n",
    "    tt = jpa_tuning.TuningTable()\n",
    "    for Fs in  arange(7.5e9, 8e9, 0.05e9) :\n",
    "        print(Fs*1e-9)\n",
    "        op,status = tuner.find_gain_sm(target_gain , Fs)\n",
    "        #if status:\n",
    "        tt.add_point(op)\n",
    "        tt.dump(savepath+\"\\\\{:.0f}db.txt\".format(target_gain)) "
   ]
  },
  {
   "cell_type": "code",
   "execution_count": 361,
   "metadata": {
    "ExecuteTime": {
     "end_time": "2019-10-21T13:52:47.280034Z",
     "start_time": "2019-10-21T13:52:47.275036Z"
    }
   },
   "outputs": [
    {
     "data": {
      "text/plain": [
       "True"
      ]
     },
     "execution_count": 361,
     "metadata": {},
     "output_type": "execute_result"
    }
   ],
   "source": [
    "status"
   ]
  },
  {
   "cell_type": "code",
   "execution_count": 33,
   "metadata": {
    "ExecuteTime": {
     "end_time": "2019-10-20T00:44:03.280828Z",
     "start_time": "2019-10-20T00:43:20.404434Z"
    }
   },
   "outputs": [
    {
     "name": "stdout",
     "output_type": "stream",
     "text": [
      "Refrence measurement...\n",
      "S21_ref = 1.39 dB\n",
      "Raw search...\n",
      "I= -1.4300e-03A G = 20.45 dB\n",
      "Noise measurement...\n",
      "G = 10.64 Sigma= 1.380806e-01\n",
      "Fine search...\n",
      "I = -2.0370e-03A P = 13.34dBm G = 19.46dB\n"
     ]
    }
   ],
   "source": [
    "op,status = tuner.find_gain(20. , 6.9e9)"
   ]
  },
  {
   "cell_type": "code",
   "execution_count": 35,
   "metadata": {
    "ExecuteTime": {
     "end_time": "2019-10-21T15:20:44.142858Z",
     "start_time": "2019-10-21T15:20:41.669640Z"
    }
   },
   "outputs": [
    {
     "data": {
      "text/plain": [
       "[<matplotlib.lines.Line2D at 0x25aa02f6e88>]"
      ]
     },
     "execution_count": 35,
     "metadata": {},
     "output_type": "execute_result"
    },
    {
     "data": {
      "image/png": "[encoded data removed]",
      "text/plain": [
       "<Figure size 432x288 with 1 Axes>"
      ]
     },
     "metadata": {
      "needs_background": "light"
     },
     "output_type": "display_data"
    }
   ],
   "source": [
    "S21on, S21off, F  = tuner.vna_snapshot( op, 2e9, bw = 100,Ps = -40)\n",
    "plot(F, 20*log10(abs(S21on)))\n",
    "plot(F, 20*log10(abs(S21off)))"
   ]
  },
  {
   "cell_type": "code",
   "execution_count": 267,
   "metadata": {
    "ExecuteTime": {
     "end_time": "2019-10-20T22:35:46.790333Z",
     "start_time": "2019-10-20T22:35:46.787335Z"
    }
   },
   "outputs": [],
   "source": [
    "op.Pp = 13"
   ]
  },
  {
   "cell_type": "markdown",
   "metadata": {
    "ExecuteTime": {
     "end_time": "2019-10-15T16:45:40.967998Z",
     "start_time": "2019-10-15T16:45:40.964505Z"
    }
   },
   "source": [
    "## Save em all"
   ]
  },
  {
   "cell_type": "code",
   "execution_count": 9,
   "metadata": {
    "ExecuteTime": {
     "end_time": "2019-10-21T22:01:48.486004Z",
     "start_time": "2019-10-21T22:01:48.480010Z"
    }
   },
   "outputs": [],
   "source": [
    "tt = jpa_tuning.TuningTable()\n",
    "tt.load(savepath+\"\\\\20db.txt\")"
   ]
  },
  {
   "cell_type": "code",
   "execution_count": 46,
   "metadata": {
    "ExecuteTime": {
     "end_time": "2019-10-21T22:03:02.653980Z",
     "start_time": "2019-10-21T22:01:49.511368Z"
    }
   },
   "outputs": [
    {
     "data": {
      "image/png": "[encoded data removed]",
      "text/plain": [
       "<Figure size 432x288 with 1 Axes>"
      ]
     },
     "metadata": {
      "needs_background": "light"
     },
     "output_type": "display_data"
    }
   ],
   "source": [
    "for i,op in enumerate(tt):\n",
    "    S21on, S21off, F  = tuner.vna_snapshot( op, 2e9, bw = 50, Ps = -30)\n",
    "    clf()\n",
    "    plot(F, 20*log10(abs(S21on)))\n",
    "    plot(F, 20*log10(abs(S21off)))\n",
    "    \n",
    "    filename = \"{:d}\".format(i)\n",
    "    full_path = savepath+\"\\\\20db\\\\\"+filename\n",
    "    \n",
    "    savefig(full_path+\".png\", dpi = 300)\n",
    "    \n",
    "    f = open(full_path+\".pkl\", 'wb')\n",
    "    pickle.dump({'S21on':S21on,'S21off':S21off,  'F':F, } , f)\n",
    "    f.close()"
   ]
  },
  {
   "cell_type": "code",
   "execution_count": null,
   "metadata": {
    "ExecuteTime": {
     "end_time": "2019-10-15T09:24:23.862591Z",
     "start_time": "2019-10-15T09:24:23.857600Z"
    }
   },
   "outputs": [],
   "source": [
    "tt.dump(savepath+\"\\\\table.txt\")"
   ]
  },
  {
   "cell_type": "code",
   "execution_count": null,
   "metadata": {
    "ExecuteTime": {
     "end_time": "2019-10-15T09:24:25.318668Z",
     "start_time": "2019-10-15T09:24:25.293715Z"
    }
   },
   "outputs": [],
   "source": [
    "tt.load(savepath+\"\\\\table.txt\")"
   ]
  },
  {
   "cell_type": "code",
   "execution_count": null,
   "metadata": {
    "ExecuteTime": {
     "end_time": "2019-10-15T10:01:52.885264Z",
     "start_time": "2019-10-15T10:01:52.879774Z"
    }
   },
   "outputs": [],
   "source": [
    "tt.I"
   ]
  },
  {
   "cell_type": "code",
   "execution_count": 252,
   "metadata": {
    "ExecuteTime": {
     "end_time": "2019-10-20T22:25:19.750431Z",
     "start_time": "2019-10-20T22:25:01.061029Z"
    }
   },
   "outputs": [
    {
     "name": "stdout",
     "output_type": "stream",
     "text": [
      "12.00 -4.480000e-03\r"
     ]
    },
    {
     "data": {
      "text/plain": [
       "<Figure size 432x288 with 0 Axes>"
      ]
     },
     "metadata": {},
     "output_type": "display_data"
    }
   ],
   "source": [
    "figure('test')\n",
    "Plist = arange(12,13,1)\n",
    "Ilist = arange(0.,-4.5e-3, -0.02e-3)\n",
    "gain = zeros( [len(Plist), len(Ilist)] )\n",
    "for i, P in enumerate(Plist):\n",
    "    #pump.set_power(P)\n",
    "    for j,I in enumerate(Ilist):\n",
    "        bias.set_current(I)\n",
    "        time.sleep(0.05)\n",
    "        print('{:.2f} {:e}'.format(P,I), end = '\\r')\n",
    "        gain[i][j] = abs(tuner.meas_S21()[0])    "
   ]
  },
  {
   "cell_type": "code",
   "execution_count": 123,
   "metadata": {
    "ExecuteTime": {
     "end_time": "2019-10-20T18:50:05.942854Z",
     "start_time": "2019-10-20T18:50:05.644040Z"
    }
   },
   "outputs": [
    {
     "data": {
      "image/png": "[encoded data removed]",
      "text/plain": [
       "<Figure size 432x288 with 2 Axes>"
      ]
     },
     "metadata": {
      "needs_background": "light"
     },
     "output_type": "display_data"
    }
   ],
   "source": [
    "pcolormesh( sqrt((gain-20)**2) )\n",
    "colorbar()\n",
    "clim([0,100])"
   ]
  },
  {
   "cell_type": "code",
   "execution_count": 253,
   "metadata": {
    "ExecuteTime": {
     "end_time": "2019-10-20T22:25:24.998174Z",
     "start_time": "2019-10-20T22:25:24.799299Z"
    }
   },
   "outputs": [
    {
     "data": {
      "image/png": "[encoded data removed]",
      "text/plain": [
       "<Figure size 432x288 with 1 Axes>"
      ]
     },
     "metadata": {
      "needs_background": "light"
     },
     "output_type": "display_data"
    }
   ],
   "source": [
    "for g in gain:\n",
    "    plot(Ilist,log10(g)*20)\n",
    "    plot(op.I, 20,'o')"
   ]
  },
  {
   "cell_type": "code",
   "execution_count": 179,
   "metadata": {
    "ExecuteTime": {
     "end_time": "2019-10-20T20:36:59.623963Z",
     "start_time": "2019-10-20T20:36:59.617968Z"
    }
   },
   "outputs": [
    {
     "data": {
      "text/plain": [
       "-0.002632000000000007"
      ]
     },
     "execution_count": 179,
     "metadata": {},
     "output_type": "execute_result"
    }
   ],
   "source": [
    "op.I"
   ]
  },
  {
   "cell_type": "code",
   "execution_count": 27,
   "metadata": {},
   "outputs": [
    {
     "ename": "TypeError",
     "evalue": "'TuningTable' object is not subscriptable",
     "output_type": "error",
     "traceback": [
      "\u001b[1;31m---------------------------------------------------------------------------\u001b[0m",
      "\u001b[1;31mTypeError\u001b[0m                                 Traceback (most recent call last)",
      "\u001b[1;32m<ipython-input-27-6e91a60038f2>\u001b[0m in \u001b[0;36m<module>\u001b[1;34m\u001b[0m\n\u001b[1;32m----> 1\u001b[1;33m \u001b[0mtt\u001b[0m\u001b[1;33m[\u001b[0m\u001b[1;36m1\u001b[0m\u001b[1;33m]\u001b[0m\u001b[1;33m\u001b[0m\u001b[1;33m\u001b[0m\u001b[0m\n\u001b[0m",
      "\u001b[1;31mTypeError\u001b[0m: 'TuningTable' object is not subscriptable"
     ]
    }
   ],
   "source": [
    "tt[1]"
   ]
  }
 ],
 "metadata": {
  "kernelspec": {
   "display_name": "Python 3",
   "language": "python",
   "name": "python3"
  },
  "language_info": {
   "codemirror_mode": {
    "name": "ipython",
    "version": 3
   },
   "file_extension": ".py",
   "mimetype": "text/x-python",
   "name": "python",
   "nbconvert_exporter": "python",
   "pygments_lexer": "ipython3",
   "version": "3.7.4"
  },
  "toc": {
   "base_numbering": 1,
   "nav_menu": {},
   "number_sections": true,
   "sideBar": true,
   "skip_h1_title": false,
   "title_cell": "Table of Contents",
   "title_sidebar": "Contents",
   "toc_cell": false,
   "toc_position": {},
   "toc_section_display": true,
   "toc_window_display": false
  }
 },
 "nbformat": 4,
 "nbformat_minor": 2
}
